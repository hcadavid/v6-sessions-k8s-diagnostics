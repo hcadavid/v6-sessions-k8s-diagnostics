{
 "cells": [
  {
   "cell_type": "code",
   "execution_count": 1,
   "metadata": {},
   "outputs": [
    {
     "name": "stdout",
     "output_type": "stream",
     "text": [
      " Welcome to\n",
      "                  _                     __  \n",
      "                 | |                   / /  \n",
      "__   ____ _ _ __ | |_ __ _  __ _  ___ / /_  \n",
      "\\ \\ / / _` | '_ \\| __/ _` |/ _` |/ _ \\ '_ \\ \n",
      " \\ V / (_| | | | | || (_| | (_| |  __/ (_) |\n",
      "  \\_/ \\__,_|_| |_|\\__\\__,_|\\__, |\\___|\\___/ \n",
      "                            __/ |           \n",
      "                           |___/            \n",
      "\n",
      " --> Join us on Discord! https://discord.gg/rwRvwyK\n",
      " --> Docs: https://docs.vantage6.ai\n",
      " --> Blog: https://vantage6.ai\n",
      "------------------------------------------------------------\n",
      "Cite us!\n",
      "If you publish your findings obtained using vantage6, \n",
      "please cite the proper sources as mentioned in:\n",
      "https://vantage6.ai/vantage6/references\n",
      "------------------------------------------------------------\n",
      "Successfully authenticated\n",
      " --> Succesfully authenticated\n",
      " --> Name: user 1 (id=2)\n",
      " --> Organization: org_1 (id=2)\n"
     ]
    }
   ],
   "source": [
    "# Load the autoreload extension\n",
    "%load_ext autoreload\n",
    "\n",
    "# Set autoreload mode to reload all modules before executing code\n",
    "%autoreload 2\n",
    "\n",
    "from vantage6.client import Client\n",
    "\n",
    "client = Client(\"http://localhost\", 7601, \"/server\", log_level=\"INFO\")\n",
    "client.authenticate(\"user_1\", \"Password123!\")\n"
   ]
  },
  {
   "cell_type": "code",
   "execution_count": null,
   "metadata": {},
   "outputs": [],
   "source": [
    "client.setup_encryption(None)\n",
    "client.setup_collaboration(1)"
   ]
  },
  {
   "cell_type": "code",
   "execution_count": null,
   "metadata": {},
   "outputs": [],
   "source": [
    "help(client.setup_collaboration)"
   ]
  },
  {
   "cell_type": "markdown",
   "metadata": {},
   "source": [
    "# Basic Session Management"
   ]
  },
  {
   "cell_type": "code",
   "execution_count": null,
   "metadata": {},
   "outputs": [],
   "source": [
    "a = client.session.create(name=\"session_two\",scope=\"collaboration\", display=True)"
   ]
  },
  {
   "cell_type": "code",
   "execution_count": 2,
   "metadata": {},
   "outputs": [
    {
     "data": {
      "text/html": [
       "<pre style=\"white-space:pre;overflow-x:auto;line-height:normal;font-family:Menlo,'DejaVu Sans Mono',consolas,'Courier New',monospace\"><span style=\"font-style: italic\">                                           Sessions                                           </span>\n",
       "┏━━━━┳━━━━━━━━━━━━━┳━━━━━━━┳━━━━━━━━━━━━━━━━━━━━━━━━━━━━┳━━━━━━━━━━━━━━━━━━━━━━━━━━━━┳━━━━━━━┓\n",
       "┃<span style=\"font-weight: bold\"> ID </span>┃<span style=\"font-weight: bold\"> Name        </span>┃<span style=\"font-weight: bold\"> scope </span>┃<span style=\"font-weight: bold\"> created_at                 </span>┃<span style=\"font-weight: bold\"> last_used_at               </span>┃<span style=\"font-weight: bold\"> ready </span>┃\n",
       "┡━━━━╇━━━━━━━━━━━━━╇━━━━━━━╇━━━━━━━━━━━━━━━━━━━━━━━━━━━━╇━━━━━━━━━━━━━━━━━━━━━━━━━━━━╇━━━━━━━┩\n",
       "│ 1  │ session_two │ col   │ 2025-05-27T15:53:12.099465 │ 2025-05-27T15:53:12.099494 │ True  │\n",
       "└────┴─────────────┴───────┴────────────────────────────┴────────────────────────────┴───────┘\n",
       "</pre>\n"
      ],
      "text/plain": [
       "\u001b[3m                                           Sessions                                           \u001b[0m\n",
       "┏━━━━┳━━━━━━━━━━━━━┳━━━━━━━┳━━━━━━━━━━━━━━━━━━━━━━━━━━━━┳━━━━━━━━━━━━━━━━━━━━━━━━━━━━┳━━━━━━━┓\n",
       "┃\u001b[1m \u001b[0m\u001b[1mID\u001b[0m\u001b[1m \u001b[0m┃\u001b[1m \u001b[0m\u001b[1mName       \u001b[0m\u001b[1m \u001b[0m┃\u001b[1m \u001b[0m\u001b[1mscope\u001b[0m\u001b[1m \u001b[0m┃\u001b[1m \u001b[0m\u001b[1mcreated_at                \u001b[0m\u001b[1m \u001b[0m┃\u001b[1m \u001b[0m\u001b[1mlast_used_at              \u001b[0m\u001b[1m \u001b[0m┃\u001b[1m \u001b[0m\u001b[1mready\u001b[0m\u001b[1m \u001b[0m┃\n",
       "┡━━━━╇━━━━━━━━━━━━━╇━━━━━━━╇━━━━━━━━━━━━━━━━━━━━━━━━━━━━╇━━━━━━━━━━━━━━━━━━━━━━━━━━━━╇━━━━━━━┩\n",
       "│ 1  │ session_two │ col   │ 2025-05-27T15:53:12.099465 │ 2025-05-27T15:53:12.099494 │ True  │\n",
       "└────┴─────────────┴───────┴────────────────────────────┴────────────────────────────┴───────┘\n"
      ]
     },
     "metadata": {},
     "output_type": "display_data"
    },
    {
     "data": {
      "text/plain": [
       "{'scope': 'col',\n",
       " 'dataframes': '/server/session/1/dataframe',\n",
       " 'last_used_at': '2025-05-27T15:53:12.099494',\n",
       " 'ready': True,\n",
       " 'owner': {'id': 2,\n",
       "  'link': '/server/user/2',\n",
       "  'methods': ['DELETE', 'GET', 'PATCH']},\n",
       " 'study': None,\n",
       " 'id': 1,\n",
       " 'name': 'session_two',\n",
       " 'tasks': '/server/task?session_id=1',\n",
       " 'collaboration': {'id': 1,\n",
       "  'link': '/server/collaboration/1',\n",
       "  'methods': ['DELETE', 'GET', 'PATCH']},\n",
       " 'created_at': '2025-05-27T15:53:12.099465'}"
      ]
     },
     "execution_count": 2,
     "metadata": {},
     "output_type": "execute_result"
    }
   ],
   "source": [
    "client.session.get(1,display=True)"
   ]
  },
  {
   "cell_type": "code",
   "execution_count": null,
   "metadata": {},
   "outputs": [],
   "source": [
    "client.collaboration.get(1)"
   ]
  },
  {
   "cell_type": "code",
   "execution_count": null,
   "metadata": {},
   "outputs": [],
   "source": [
    "client.organization.list(collaboration=1)"
   ]
  },
  {
   "cell_type": "code",
   "execution_count": null,
   "metadata": {},
   "outputs": [],
   "source": [
    "client.session.list(display=True);"
   ]
  },
  {
   "cell_type": "code",
   "execution_count": null,
   "metadata": {},
   "outputs": [],
   "source": [
    "client.session.update(9, name=\"new name4\", scope=\"own\", display=True);"
   ]
  },
  {
   "cell_type": "code",
   "execution_count": null,
   "metadata": {},
   "outputs": [],
   "source": [
    "client.session.get(id_=1, display=True);"
   ]
  },
  {
   "cell_type": "code",
   "execution_count": null,
   "metadata": {},
   "outputs": [],
   "source": [
    "help(client.dataframe.create)"
   ]
  },
  {
   "cell_type": "code",
   "execution_count": 4,
   "metadata": {},
   "outputs": [
    {
     "data": {
      "text/html": [
       "<pre style=\"white-space:pre;overflow-x:auto;line-height:normal;font-family:Menlo,'DejaVu Sans Mono',consolas,'Courier New',monospace\">┏━━━━┳━━━━━━━━━━━━━━━┳━━━━━━━━━━━━┳━━━━━━━━━━━━━━━━━━━━━━┳━━━━━━━━━━━━━┳━━━━━━━┓\n",
       "┃<span style=\"font-weight: bold\"> ID </span>┃<span style=\"font-weight: bold\"> Name          </span>┃<span style=\"font-weight: bold\"> Session ID </span>┃<span style=\"font-weight: bold\"> Last Session Task ID </span>┃<span style=\"font-weight: bold\"> No. Columns </span>┃<span style=\"font-weight: bold\"> Ready </span>┃\n",
       "┡━━━━╇━━━━━━━━━━━━━━━╇━━━━━━━━━━━━╇━━━━━━━━━━━━━━━━━━━━━━╇━━━━━━━━━━━━━╇━━━━━━━┩\n",
       "│ 5  │ s1_dframe_new │ 1          │ 5                    │ 0           │ True  │\n",
       "└────┴───────────────┴────────────┴──────────────────────┴─────────────┴───────┘\n",
       "</pre>\n"
      ],
      "text/plain": [
       "┏━━━━┳━━━━━━━━━━━━━━━┳━━━━━━━━━━━━┳━━━━━━━━━━━━━━━━━━━━━━┳━━━━━━━━━━━━━┳━━━━━━━┓\n",
       "┃\u001b[1m \u001b[0m\u001b[1mID\u001b[0m\u001b[1m \u001b[0m┃\u001b[1m \u001b[0m\u001b[1mName         \u001b[0m\u001b[1m \u001b[0m┃\u001b[1m \u001b[0m\u001b[1mSession ID\u001b[0m\u001b[1m \u001b[0m┃\u001b[1m \u001b[0m\u001b[1mLast Session Task ID\u001b[0m\u001b[1m \u001b[0m┃\u001b[1m \u001b[0m\u001b[1mNo. Columns\u001b[0m\u001b[1m \u001b[0m┃\u001b[1m \u001b[0m\u001b[1mReady\u001b[0m\u001b[1m \u001b[0m┃\n",
       "┡━━━━╇━━━━━━━━━━━━━━━╇━━━━━━━━━━━━╇━━━━━━━━━━━━━━━━━━━━━━╇━━━━━━━━━━━━━╇━━━━━━━┩\n",
       "│ 5  │ s1_dframe_new │ 1          │ 5                    │ 0           │ True  │\n",
       "└────┴───────────────┴────────────┴──────────────────────┴─────────────┴───────┘\n"
      ]
     },
     "metadata": {},
     "output_type": "display_data"
    },
    {
     "data": {
      "text/plain": [
       "{'columns': [],\n",
       " 'ready': True,\n",
       " 'session': {'id': 1,\n",
       "  'link': '/server/session/1',\n",
       "  'methods': ['DELETE', 'GET', 'PATCH']},\n",
       " 'db_label': 'default',\n",
       " 'id': 5,\n",
       " 'tasks': '/server/task?dataframe_id=5',\n",
       " 'last_session_task': {'dataframe': {'name': 's1_dframe_new',\n",
       "   'db_label': 'default',\n",
       "   'id': 5},\n",
       "  'algorithm_store': None,\n",
       "  'children': '/server/task?parent_id=5',\n",
       "  'study': None,\n",
       "  'id': 5,\n",
       "  'created_at': '2025-05-28T07:04:54.655074',\n",
       "  'parent': None,\n",
       "  'description': 'Data extraction step for session session_two (1).This session is in the collab 1 collaboration. Data extraction is done on the default database, and the dataframe name will be s1_dframe_new.',\n",
       "  'status': 'awaiting',\n",
       "  'runs': '/server/run?task_id=5',\n",
       "  'results': '/server/result?task_id=5',\n",
       "  'image': 'ghcr.io/hcadavid/v6-sessions-k8s-diagnostics:latest',\n",
       "  'method': 'read_csv',\n",
       "  'init_user': {'id': 2,\n",
       "   'link': '/server/user/2',\n",
       "   'methods': ['DELETE', 'GET', 'PATCH']},\n",
       "  'depends_on': [],\n",
       "  'databases': [{'label': 'default',\n",
       "    'type': 'source',\n",
       "    'dataframe_id': None,\n",
       "    'dataframe_name': None}],\n",
       "  'job_id': 5,\n",
       "  'collaboration': {'id': 1,\n",
       "   'link': '/server/collaboration/1',\n",
       "   'methods': ['DELETE', 'GET', 'PATCH']},\n",
       "  'finished_at': None,\n",
       "  'session': {'id': 1,\n",
       "   'link': '/server/session/1',\n",
       "   'methods': ['DELETE', 'GET', 'PATCH']},\n",
       "  'init_org': {'id': 2,\n",
       "   'link': '/server/organization/2',\n",
       "   'methods': ['DELETE', 'GET', 'PATCH']},\n",
       "  'name': 'Session initialization: session_two',\n",
       "  'required_by': []},\n",
       " 'name': 's1_dframe_new'}"
      ]
     },
     "execution_count": 4,
     "metadata": {},
     "output_type": "execute_result"
    }
   ],
   "source": [
    "client.dataframe.create(label=\"default\",image=\"ghcr.io/hcadavid/v6-sessions-k8s-diagnostics:latest\",method=\"read_csv\", name=\"s1_dframe_new\", session=1,display=True,input_={'kwargs': {}})"
   ]
  },
  {
   "cell_type": "code",
   "execution_count": null,
   "metadata": {},
   "outputs": [],
   "source": [
    "# session_id=1\n",
    "\n",
    "client.dataframe.create(label=\"default\",image=\"harbor2.vantage6.ai/algorithms/session-basics\",method=\"read_csv\", name=\"s1_dframe4\", session=1,display=True,input_={'kwargs': {}})\n",
    "\n"
   ]
  },
  {
   "cell_type": "code",
   "execution_count": 5,
   "metadata": {},
   "outputs": [
    {
     "data": {
      "text/html": [
       "<pre style=\"white-space:pre;overflow-x:auto;line-height:normal;font-family:Menlo,'DejaVu Sans Mono',consolas,'Courier New',monospace\">┏━━━━┳━━━━━━━━━━━━━━━┳━━━━━━━━━━━━┳━━━━━━━━━━━━━━━━━━━━━━┳━━━━━━━━━━━━━┳━━━━━━━┓\n",
       "┃<span style=\"font-weight: bold\"> ID </span>┃<span style=\"font-weight: bold\"> Name          </span>┃<span style=\"font-weight: bold\"> Session ID </span>┃<span style=\"font-weight: bold\"> Last Session Task ID </span>┃<span style=\"font-weight: bold\"> No. Columns </span>┃<span style=\"font-weight: bold\"> Ready </span>┃\n",
       "┡━━━━╇━━━━━━━━━━━━━━━╇━━━━━━━━━━━━╇━━━━━━━━━━━━━━━━━━━━━━╇━━━━━━━━━━━━━╇━━━━━━━┩\n",
       "│ 1  │ s1_dframe2    │ 1          │ 1                    │ 0           │ True  │\n",
       "│ 2  │ s1_dframe3    │ 1          │ 2                    │ 0           │ True  │\n",
       "│ 3  │ s1_dframe4    │ 1          │ 3                    │ 0           │ True  │\n",
       "│ 4  │ s1_dframe_ca  │ 1          │ 4                    │ 0           │ True  │\n",
       "│ 5  │ s1_dframe_new │ 1          │ 5                    │ 21          │ True  │\n",
       "└────┴───────────────┴────────────┴──────────────────────┴─────────────┴───────┘\n",
       "</pre>\n"
      ],
      "text/plain": [
       "┏━━━━┳━━━━━━━━━━━━━━━┳━━━━━━━━━━━━┳━━━━━━━━━━━━━━━━━━━━━━┳━━━━━━━━━━━━━┳━━━━━━━┓\n",
       "┃\u001b[1m \u001b[0m\u001b[1mID\u001b[0m\u001b[1m \u001b[0m┃\u001b[1m \u001b[0m\u001b[1mName         \u001b[0m\u001b[1m \u001b[0m┃\u001b[1m \u001b[0m\u001b[1mSession ID\u001b[0m\u001b[1m \u001b[0m┃\u001b[1m \u001b[0m\u001b[1mLast Session Task ID\u001b[0m\u001b[1m \u001b[0m┃\u001b[1m \u001b[0m\u001b[1mNo. Columns\u001b[0m\u001b[1m \u001b[0m┃\u001b[1m \u001b[0m\u001b[1mReady\u001b[0m\u001b[1m \u001b[0m┃\n",
       "┡━━━━╇━━━━━━━━━━━━━━━╇━━━━━━━━━━━━╇━━━━━━━━━━━━━━━━━━━━━━╇━━━━━━━━━━━━━╇━━━━━━━┩\n",
       "│ 1  │ s1_dframe2    │ 1          │ 1                    │ 0           │ True  │\n",
       "│ 2  │ s1_dframe3    │ 1          │ 2                    │ 0           │ True  │\n",
       "│ 3  │ s1_dframe4    │ 1          │ 3                    │ 0           │ True  │\n",
       "│ 4  │ s1_dframe_ca  │ 1          │ 4                    │ 0           │ True  │\n",
       "│ 5  │ s1_dframe_new │ 1          │ 5                    │ 21          │ True  │\n",
       "└────┴───────────────┴────────────┴──────────────────────┴─────────────┴───────┘\n"
      ]
     },
     "metadata": {},
     "output_type": "display_data"
    }
   ],
   "source": [
    "#list session's dataframes (session= 2)\n",
    "client.session.dataframes(1, display=True);"
   ]
  },
  {
   "cell_type": "code",
   "execution_count": null,
   "metadata": {},
   "outputs": [],
   "source": [
    "help(client.dataframe.get)"
   ]
  },
  {
   "cell_type": "code",
   "execution_count": null,
   "metadata": {},
   "outputs": [],
   "source": [
    "client.dataframe.get(1, display=True);"
   ]
  },
  {
   "cell_type": "code",
   "execution_count": null,
   "metadata": {},
   "outputs": [],
   "source": [
    "help(client.dataframe.preprocess)"
   ]
  },
  {
   "cell_type": "code",
   "execution_count": null,
   "metadata": {},
   "outputs": [],
   "source": [
    "#Why session ID and not dataframe id?\n",
    "client.dataframe.preprocess(1, image=\"ghcr.io/hcadavid/v6-sessions-k8s-diagnostics:latest\", method=\"pre_process2\",input_={    \n",
    "    \"args\": [\"Age\", \"PlusAge\"],\n",
    "    \"kwargs\": {}\n",
    "})\n"
   ]
  },
  {
   "cell_type": "code",
   "execution_count": null,
   "metadata": {},
   "outputs": [],
   "source": [
    "#Check updated dataframe\n",
    "client.dataframe.get(1, display=True);"
   ]
  },
  {
   "cell_type": "code",
   "execution_count": null,
   "metadata": {},
   "outputs": [],
   "source": [
    "sessions = client.session.list(display=True)"
   ]
  },
  {
   "cell_type": "code",
   "execution_count": null,
   "metadata": {},
   "outputs": [],
   "source": [
    "client.session.tree()"
   ]
  },
  {
   "cell_type": "code",
   "execution_count": null,
   "metadata": {},
   "outputs": [],
   "source": [
    "[client.session.delete(id_, delete_dependents=True) for id_ in [1,2]]"
   ]
  },
  {
   "cell_type": "code",
   "execution_count": null,
   "metadata": {},
   "outputs": [],
   "source": [
    "client.session.task_tree(9)"
   ]
  },
  {
   "cell_type": "code",
   "execution_count": null,
   "metadata": {},
   "outputs": [],
   "source": [
    "a = client.dataframe.get(\"eloquent_knuth\", 1)"
   ]
  },
  {
   "cell_type": "code",
   "execution_count": null,
   "metadata": {},
   "outputs": [],
   "source": [
    "help(client.task.create)"
   ]
  },
  {
   "cell_type": "markdown",
   "metadata": {},
   "source": [
    "## Central network diagnostics"
   ]
  },
  {
   "cell_type": "code",
   "execution_count": 11,
   "metadata": {},
   "outputs": [
    {
     "name": "stdout",
     "output_type": "stream",
     "text": [
      "Done!                  700s)"
     ]
    },
    {
     "data": {
      "text/plain": [
       "{'data': [{'run': {'id': 28,\n",
       "    'link': '/server/run/28',\n",
       "    'methods': ['GET', 'PATCH']},\n",
       "   'action': 'central_compute',\n",
       "   'cleanup_at': None,\n",
       "   'id': 28,\n",
       "   'task': {'id': 10, 'link': '/server/task/10', 'methods': ['GET', 'DELETE']},\n",
       "   'result': '{\"central_status\": {\"proxy\": \"vantage6-node-node-service.vantage6-dev.svc.cluster.local:7654\", \"external_dns_reachable\": true, \"http_connection_test_passed\": false, \"proxy_reachable\": true, \"ipv4s_addresses\": [[\"lo\", \"127.0.0.1\"], [\"eth0\", \"10.1.71.59\"]], \"ipv6s_addresses\": [[\"lo\", \"::1\"], [\"eth0\", \"fe80::7cae:4aff:fee9:18ab%eth0\"]]}, \"partial_statuses\": [{\"proxy\": \"vantage6-node-node-service.vantage6-dev.svc.cluster.local:7656\", \"external_dns_reachable\": true, \"http_connection_test_passed\": false, \"proxy_reachable\": false, \"ipv4s_addresses\": [[\"lo\", \"127.0.0.1\"], [\"eth0\", \"10.1.71.45\"]], \"ipv6s_addresses\": [[\"lo\", \"::1\"], [\"eth0\", \"fe80::8c85:63ff:fe3a:4b4d%eth0\"]]}, {\"proxy\": \"vantage6-node-node-service.vantage6-dev.svc.cluster.local:7655\", \"external_dns_reachable\": true, \"http_connection_test_passed\": false, \"proxy_reachable\": false, \"ipv4s_addresses\": [[\"lo\", \"127.0.0.1\"], [\"eth0\", \"10.1.71.35\"]], \"ipv6s_addresses\": [[\"lo\", \"::1\"], [\"eth0\", \"fe80::788a:c4ff:fef9:6420%eth0\"]]}, {\"proxy\": \"vantage6-node-node-service.vantage6-dev.svc.cluster.local:7654\", \"external_dns_reachable\": true, \"http_connection_test_passed\": false, \"proxy_reachable\": false, \"ipv4s_addresses\": [[\"lo\", \"127.0.0.1\"], [\"eth0\", \"10.1.71.43\"]], \"ipv6s_addresses\": [[\"lo\", \"::1\"], [\"eth0\", \"fe80::803f:28ff:fe69:10a7%eth0\"]]}]}'}],\n",
       " 'links': {'first': '/server/result?task_id=10&page=1',\n",
       "  'self': '/server/result?task_id=10&page=1',\n",
       "  'last': '/server/result?task_id=10&page=1'}}"
      ]
     },
     "execution_count": 11,
     "metadata": {},
     "output_type": "execute_result"
    }
   ],
   "source": [
    "# Central network diagnostics\n",
    "task = client.task.create(name=\"central network diagnostics\", description=\"central nw diag\", collaboration=1,\n",
    "                   organizations=[2],\n",
    "                   databases=[{\"label\": \"s1_dframe_new\", \"type\": \"dataframe\", \"dataframe_id\":\"5\"}], \n",
    "                   image=\"ghcr.io/hcadavid/v6-sessions-k8s-diagnostics:latest\", method=\"central_network_diagnostics\", \n",
    "                   action=\"central_compute\",\n",
    "                   input_={\n",
    "                    \"args\": [300],\n",
    "                    \"kwargs\": {}\n",
    "                   }\n",
    ", session=1)\n",
    "\n",
    "client.wait_for_results(task['job_id'])"
   ]
  },
  {
   "cell_type": "markdown",
   "metadata": {},
   "source": [
    "## Partial network diagnostics"
   ]
  },
  {
   "cell_type": "code",
   "execution_count": 8,
   "metadata": {},
   "outputs": [
    {
     "name": "stdout",
     "output_type": "stream",
     "text": [
      "Done!                  9s)"
     ]
    },
    {
     "data": {
      "text/plain": [
       "{'data': [{'run': {'id': 24,\n",
       "    'link': '/server/run/24',\n",
       "    'methods': ['GET', 'PATCH']},\n",
       "   'action': 'federated_compute',\n",
       "   'cleanup_at': None,\n",
       "   'id': 24,\n",
       "   'task': {'id': 8, 'link': '/server/task/8', 'methods': ['GET', 'DELETE']},\n",
       "   'result': ''},\n",
       "  {'run': {'id': 23, 'link': '/server/run/23', 'methods': ['GET', 'PATCH']},\n",
       "   'action': 'federated_compute',\n",
       "   'cleanup_at': None,\n",
       "   'id': 23,\n",
       "   'task': {'id': 8, 'link': '/server/task/8', 'methods': ['GET', 'DELETE']},\n",
       "   'result': ''},\n",
       "  {'run': {'id': 22, 'link': '/server/run/22', 'methods': ['GET', 'PATCH']},\n",
       "   'action': 'federated_compute',\n",
       "   'cleanup_at': None,\n",
       "   'id': 22,\n",
       "   'task': {'id': 8, 'link': '/server/task/8', 'methods': ['GET', 'DELETE']},\n",
       "   'result': ''}],\n",
       " 'links': {'first': '/server/result?task_id=8&page=1',\n",
       "  'self': '/server/result?task_id=8&page=1',\n",
       "  'last': '/server/result?task_id=8&page=1'}}"
      ]
     },
     "execution_count": 8,
     "metadata": {},
     "output_type": "execute_result"
    }
   ],
   "source": [
    "# Network diagnostics\n",
    "task = client.task.create(name=\"network diagnostics\", description=\"anwdiag\", collaboration=1,\n",
    "                   organizations=[2,3,4],\n",
    "                   databases=[{\"label\": \"s1_dframe_new\", \"type\": \"dataframe\", \"dataframe_id\":\"5\"}], \n",
    "                   image=\"ghcr.io/hcadavid/v6-sessions-k8s-diagnostics:latest\", method=\"network_status\", \n",
    "                   action=\"federated_compute\",\n",
    "                   input_={\n",
    "                    \"args\": [1],\n",
    "                    \"kwargs\": {}\n",
    "                   }\n",
    ", session=1)\n",
    "\n",
    "client.wait_for_results(task['job_id'])"
   ]
  },
  {
   "cell_type": "code",
   "execution_count": null,
   "metadata": {},
   "outputs": [],
   "source": [
    "# Network diagnostics\n",
    "task = client.task.create(name=\"network diagnostics\", description=\"anwdiag\", collaboration=1,\n",
    "                   organizations=[2,3,4],\n",
    "                   databases=[{\"label\": \"s1_dframe1\", \"type\": \"dataframe\", \"dataframe_id\":\"1\"}], \n",
    "                   image=\"ghcr.io/hcadavid/v6-sessions-k8s-diagnostics:latest\", method=\"network_status\", \n",
    "                   action=\"federated_compute\",\n",
    "                   input_={\n",
    "                    \"args\": [350],\n",
    "                    \"kwargs\": {}\n",
    "                   }\n",
    ", session=1)\n",
    "\n",
    "client.wait_for_results(task['job_id'])"
   ]
  },
  {
   "cell_type": "code",
   "execution_count": 9,
   "metadata": {},
   "outputs": [
    {
     "name": "stdout",
     "output_type": "stream",
     "text": [
      "Done!                  1s)"
     ]
    },
    {
     "data": {
      "text/plain": [
       "{'data': [{'run': {'id': 27,\n",
       "    'link': '/server/run/27',\n",
       "    'methods': ['GET', 'PATCH']},\n",
       "   'action': 'federated_compute',\n",
       "   'cleanup_at': None,\n",
       "   'id': 27,\n",
       "   'task': {'id': 9, 'link': '/server/task/9', 'methods': ['GET', 'DELETE']},\n",
       "   'result': '{\"sum\": 66935, \"count\": 2424}'},\n",
       "  {'run': {'id': 26, 'link': '/server/run/26', 'methods': ['GET', 'PATCH']},\n",
       "   'action': 'federated_compute',\n",
       "   'cleanup_at': None,\n",
       "   'id': 26,\n",
       "   'task': {'id': 9, 'link': '/server/task/9', 'methods': ['GET', 'DELETE']},\n",
       "   'result': '{\"sum\": 66935, \"count\": 2424}'},\n",
       "  {'run': {'id': 25, 'link': '/server/run/25', 'methods': ['GET', 'PATCH']},\n",
       "   'action': 'federated_compute',\n",
       "   'cleanup_at': None,\n",
       "   'id': 25,\n",
       "   'task': {'id': 9, 'link': '/server/task/9', 'methods': ['GET', 'DELETE']},\n",
       "   'result': '{\"sum\": 66935, \"count\": 2424}'}],\n",
       " 'links': {'first': '/server/result?task_id=9&page=1',\n",
       "  'self': '/server/result?task_id=9&page=1',\n",
       "  'last': '/server/result?task_id=9&page=1'}}"
      ]
     },
     "execution_count": 9,
     "metadata": {},
     "output_type": "execute_result"
    }
   ],
   "source": [
    "\n",
    "# Creating a task that uses pre-processed data\n",
    "task = client.task.create(name=\"federated avg\", description=\"aaabbccc\", collaboration=1,\n",
    "                   organizations=[2,3,4],\n",
    "                   databases=[{\"label\": \"s2_dframe1\", \"type\": \"dataframe\", \"dataframe_id\":\"5\"}], \n",
    "                   image=\"ghcr.io/hcadavid/v6-sessions-k8s-diagnostics:latest\", method=\"federated_avg\", \n",
    "                   action=\"federated_compute\",\n",
    "                   input_={\n",
    "                    \"args\": [\"Age\"],\n",
    "                    \"kwargs\": {}\n",
    "                   }\n",
    ", session=1)\n",
    "\n",
    "client.wait_for_results(task['job_id'])"
   ]
  },
  {
   "cell_type": "markdown",
   "metadata": {},
   "source": [
    "### Central function"
   ]
  },
  {
   "cell_type": "code",
   "execution_count": null,
   "metadata": {},
   "outputs": [
    {
     "name": "stdout",
     "output_type": "stream",
     "text": [
      "Done!                  "
     ]
    },
    {
     "data": {
      "text/plain": [
       "{'data': [{'run': {'id': 31,\n",
       "    'link': '/server/run/31',\n",
       "    'methods': ['GET', 'PATCH']},\n",
       "   'action': 'federated_compute',\n",
       "   'cleanup_at': None,\n",
       "   'id': 31,\n",
       "   'task': {'id': 11, 'link': '/server/task/11', 'methods': ['GET', 'DELETE']},\n",
       "   'result': '{\"proxy\": \"vantage6-node-node-service.vantage6-dev.svc.cluster.local:7656\", \"external_dns_reachable\": true, \"http_connection_test_passed\": false, \"proxy_reachable\": false, \"ipv4s_addresses\": [[\"lo\", \"127.0.0.1\"], [\"eth0\", \"10.1.71.45\"]], \"ipv6s_addresses\": [[\"lo\", \"::1\"], [\"eth0\", \"fe80::8c85:63ff:fe3a:4b4d%eth0\"]]}'},\n",
       "  {'run': {'id': 30, 'link': '/server/run/30', 'methods': ['GET', 'PATCH']},\n",
       "   'action': 'federated_compute',\n",
       "   'cleanup_at': None,\n",
       "   'id': 30,\n",
       "   'task': {'id': 11, 'link': '/server/task/11', 'methods': ['GET', 'DELETE']},\n",
       "   'result': '{\"proxy\": \"vantage6-node-node-service.vantage6-dev.svc.cluster.local:7655\", \"external_dns_reachable\": true, \"http_connection_test_passed\": false, \"proxy_reachable\": false, \"ipv4s_addresses\": [[\"lo\", \"127.0.0.1\"], [\"eth0\", \"10.1.71.35\"]], \"ipv6s_addresses\": [[\"lo\", \"::1\"], [\"eth0\", \"fe80::788a:c4ff:fef9:6420%eth0\"]]}'},\n",
       "  {'run': {'id': 29, 'link': '/server/run/29', 'methods': ['GET', 'PATCH']},\n",
       "   'action': 'federated_compute',\n",
       "   'cleanup_at': None,\n",
       "   'id': 29,\n",
       "   'task': {'id': 11, 'link': '/server/task/11', 'methods': ['GET', 'DELETE']},\n",
       "   'result': '{\"proxy\": \"vantage6-node-node-service.vantage6-dev.svc.cluster.local:7654\", \"external_dns_reachable\": true, \"http_connection_test_passed\": false, \"proxy_reachable\": false, \"ipv4s_addresses\": [[\"lo\", \"127.0.0.1\"], [\"eth0\", \"10.1.71.43\"]], \"ipv6s_addresses\": [[\"lo\", \"::1\"], [\"eth0\", \"fe80::803f:28ff:fe69:10a7%eth0\"]]}'}],\n",
       " 'links': {'first': '/server/result?task_id=11&page=1',\n",
       "  'self': '/server/result?task_id=11&page=1',\n",
       "  'last': '/server/result?task_id=11&page=1'}}"
      ]
     },
     "execution_count": 12,
     "metadata": {},
     "output_type": "execute_result"
    }
   ],
   "source": [
    "# Creating a task that uses pre-processed data\n",
    "task = client.task.create(name=\"central avg\", description=\"aaabbccc\", collaboration=1,\n",
    "                   organizations=[2],\n",
    "                   databases=[{\"label\": \"s2_dframe1\", \"type\": \"dataframe\", \"dataframe_id\":\"5\"}], \n",
    "                   image=\"ghcr.io/hcadavid/v6-sessions-k8s-diagnostics:latest\", method=\"central_average\", \n",
    "                   action=\"central_compute\",\n",
    "                   input_={\n",
    "                    \"args\": [\"Age\"],\n",
    "                    \"kwargs\": {}\n",
    "                   }\n",
    ", session=1)\n",
    "\n",
    "client.wait_for_results(task['job_id'])"
   ]
  },
  {
   "cell_type": "code",
   "execution_count": null,
   "metadata": {},
   "outputs": [],
   "source": [
    "from rich.table import Table\n",
    "from rich.console import Console\n",
    "\n",
    "table = Table(title=\"DF\")"
   ]
  }
 ],
 "metadata": {
  "kernelspec": {
   "display_name": "vantage6-5.0.0a15",
   "language": "python",
   "name": "python3"
  },
  "language_info": {
   "codemirror_mode": {
    "name": "ipython",
    "version": 3
   },
   "file_extension": ".py",
   "mimetype": "text/x-python",
   "name": "python",
   "nbconvert_exporter": "python",
   "pygments_lexer": "ipython3",
   "version": "3.10.16"
  }
 },
 "nbformat": 4,
 "nbformat_minor": 2
}
