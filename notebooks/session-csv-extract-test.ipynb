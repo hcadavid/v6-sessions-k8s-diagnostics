{
 "cells": [
  {
   "cell_type": "code",
   "execution_count": 103,
   "metadata": {},
   "outputs": [
    {
     "name": "stdout",
     "output_type": "stream",
     "text": [
      "The autoreload extension is already loaded. To reload it, use:\n",
      "  %reload_ext autoreload\n",
      " Welcome to\n",
      "                  _                     __  \n",
      "                 | |                   / /  \n",
      "__   ____ _ _ __ | |_ __ _  __ _  ___ / /_  \n",
      "\\ \\ / / _` | '_ \\| __/ _` |/ _` |/ _ \\ '_ \\ \n",
      " \\ V / (_| | | | | || (_| | (_| |  __/ (_) |\n",
      "  \\_/ \\__,_|_| |_|\\__\\__,_|\\__, |\\___|\\___/ \n",
      "                            __/ |           \n",
      "                           |___/            \n",
      "\n",
      " --> Join us on Discord! https://discord.gg/rwRvwyK\n",
      " --> Docs: https://docs.vantage6.ai\n",
      " --> Blog: https://vantage6.ai\n",
      "------------------------------------------------------------\n",
      "Cite us!\n",
      "If you publish your findings obtained using vantage6, \n",
      "please cite the proper sources as mentioned in:\n",
      "https://vantage6.ai/vantage6/references\n",
      "------------------------------------------------------------\n",
      "Successfully authenticated\n",
      " --> Succesfully authenticated\n",
      " --> Name: user 1 (id=2)\n",
      " --> Organization: org_1 (id=2)\n"
     ]
    }
   ],
   "source": [
    "# Load the autoreload extension\n",
    "%load_ext autoreload\n",
    "\n",
    "# Set autoreload mode to reload all modules before executing code\n",
    "%autoreload 2\n",
    "\n",
    "from vantage6.client import Client\n",
    "\n",
    "client = Client(\"http://localhost\", 7601, \"/server\", log_level=\"INFO\")\n",
    "client.authenticate(\"user_1\", \"Password123!\")\n"
   ]
  },
  {
   "cell_type": "code",
   "execution_count": 105,
   "metadata": {},
   "outputs": [
    {
     "name": "stdout",
     "output_type": "stream",
     "text": [
      "Setting up collaboration 1\n"
     ]
    }
   ],
   "source": [
    "client.setup_encryption(None)\n",
    "client.setup_collaboration(1)"
   ]
  },
  {
   "cell_type": "code",
   "execution_count": null,
   "metadata": {},
   "outputs": [],
   "source": [
    "help(client.setup_collaboration)"
   ]
  },
  {
   "cell_type": "markdown",
   "metadata": {},
   "source": [
    "# Basic Session Management"
   ]
  },
  {
   "cell_type": "code",
   "execution_count": 106,
   "metadata": {},
   "outputs": [
    {
     "name": "stdout",
     "output_type": "stream",
     "text": [
      "Server responded with error code: 400\n",
      "msg: Session with that name already exists within the collaboration!. Endpoint: session\n",
      "Refreshing token\n",
      "Server responded with error code: 400\n",
      "msg: Session with that name already exists within the collaboration!. Endpoint: session\n",
      "Nope, refreshing the token didn't fix it.\n"
     ]
    },
    {
     "data": {
      "text/html": [
       "<pre style=\"white-space:pre;overflow-x:auto;line-height:normal;font-family:Menlo,'DejaVu Sans Mono',consolas,'Courier New',monospace\">An error occurred while parsing a row in the session table: <span style=\"color: #008000; text-decoration-color: #008000\">'id'</span>\n",
       "</pre>\n"
      ],
      "text/plain": [
       "An error occurred while parsing a row in the session table: \u001b[32m'id'\u001b[0m\n"
      ]
     },
     "metadata": {},
     "output_type": "display_data"
    },
    {
     "data": {
      "text/html": [
       "<pre style=\"white-space:pre;overflow-x:auto;line-height:normal;font-family:Menlo,'DejaVu Sans Mono',consolas,'Courier New',monospace\"><span style=\"font-style: italic\">                          Sessions                          </span>\n",
       "┏━━━━━━━┳━━━━━━┳━━━━━━━┳━━━━━━━━━━━━┳━━━━━━━━━━━━━━┳━━━━━━━┓\n",
       "┃<span style=\"font-weight: bold\"> ID    </span>┃<span style=\"font-weight: bold\"> Name </span>┃<span style=\"font-weight: bold\"> scope </span>┃<span style=\"font-weight: bold\"> created_at </span>┃<span style=\"font-weight: bold\"> last_used_at </span>┃<span style=\"font-weight: bold\"> ready </span>┃\n",
       "┡━━━━━━━╇━━━━━━╇━━━━━━━╇━━━━━━━━━━━━╇━━━━━━━━━━━━━━╇━━━━━━━┩\n",
       "│ Error │ -    │ -     │ -          │ -            │ -     │\n",
       "└───────┴──────┴───────┴────────────┴──────────────┴───────┘\n",
       "</pre>\n"
      ],
      "text/plain": [
       "\u001b[3m                          Sessions                          \u001b[0m\n",
       "┏━━━━━━━┳━━━━━━┳━━━━━━━┳━━━━━━━━━━━━┳━━━━━━━━━━━━━━┳━━━━━━━┓\n",
       "┃\u001b[1m \u001b[0m\u001b[1mID   \u001b[0m\u001b[1m \u001b[0m┃\u001b[1m \u001b[0m\u001b[1mName\u001b[0m\u001b[1m \u001b[0m┃\u001b[1m \u001b[0m\u001b[1mscope\u001b[0m\u001b[1m \u001b[0m┃\u001b[1m \u001b[0m\u001b[1mcreated_at\u001b[0m\u001b[1m \u001b[0m┃\u001b[1m \u001b[0m\u001b[1mlast_used_at\u001b[0m\u001b[1m \u001b[0m┃\u001b[1m \u001b[0m\u001b[1mready\u001b[0m\u001b[1m \u001b[0m┃\n",
       "┡━━━━━━━╇━━━━━━╇━━━━━━━╇━━━━━━━━━━━━╇━━━━━━━━━━━━━━╇━━━━━━━┩\n",
       "│ Error │ -    │ -     │ -          │ -            │ -     │\n",
       "└───────┴──────┴───────┴────────────┴──────────────┴───────┘\n"
      ]
     },
     "metadata": {},
     "output_type": "display_data"
    }
   ],
   "source": [
    "a = client.session.create(name=\"session_two\",scope=\"collaboration\", display=True)"
   ]
  },
  {
   "cell_type": "code",
   "execution_count": null,
   "metadata": {},
   "outputs": [],
   "source": [
    "client.session.get(1,display=True)"
   ]
  },
  {
   "cell_type": "code",
   "execution_count": null,
   "metadata": {},
   "outputs": [],
   "source": [
    "client.collaboration.get(1)"
   ]
  },
  {
   "cell_type": "code",
   "execution_count": null,
   "metadata": {},
   "outputs": [],
   "source": [
    "client.organization.list(collaboration=1)"
   ]
  },
  {
   "cell_type": "code",
   "execution_count": null,
   "metadata": {},
   "outputs": [],
   "source": [
    "client.session.list(display=True);"
   ]
  },
  {
   "cell_type": "code",
   "execution_count": null,
   "metadata": {},
   "outputs": [],
   "source": [
    "client.session.update(9, name=\"new name4\", scope=\"own\", display=True);"
   ]
  },
  {
   "cell_type": "code",
   "execution_count": null,
   "metadata": {},
   "outputs": [],
   "source": [
    "client.session.get(id_=1, display=True);"
   ]
  },
  {
   "cell_type": "code",
   "execution_count": null,
   "metadata": {},
   "outputs": [],
   "source": [
    "help(client.dataframe.create)"
   ]
  },
  {
   "cell_type": "code",
   "execution_count": null,
   "metadata": {},
   "outputs": [],
   "source": [
    "# session_id=1\n",
    "\n",
    "client.dataframe.create(label=\"default\",image=\"harbor2.vantage6.ai/algorithms/session-basics\",method=\"read_csv\", name=\"s1_dframe3\", session=1,display=True,input_={'kwargs': {}})\n",
    "\n"
   ]
  },
  {
   "cell_type": "code",
   "execution_count": 107,
   "metadata": {},
   "outputs": [
    {
     "data": {
      "text/html": [
       "<pre style=\"white-space:pre;overflow-x:auto;line-height:normal;font-family:Menlo,'DejaVu Sans Mono',consolas,'Courier New',monospace\">┏━━━━┳━━━━━━━━━━━━┳━━━━━━━━━━━━┳━━━━━━━━━━━━━━━━━━━━━━┳━━━━━━━━━━━━━┳━━━━━━━┓\n",
       "┃<span style=\"font-weight: bold\"> ID </span>┃<span style=\"font-weight: bold\"> Name       </span>┃<span style=\"font-weight: bold\"> Session ID </span>┃<span style=\"font-weight: bold\"> Last Session Task ID </span>┃<span style=\"font-weight: bold\"> No. Columns </span>┃<span style=\"font-weight: bold\"> Ready </span>┃\n",
       "┡━━━━╇━━━━━━━━━━━━╇━━━━━━━━━━━━╇━━━━━━━━━━━━━━━━━━━━━━╇━━━━━━━━━━━━━╇━━━━━━━┩\n",
       "│ 1  │ s1_dframe1 │ 1          │ 4                    │ 24          │ True  │\n",
       "│ 2  │ s1_dframe2 │ 1          │ 2                    │ 21          │ True  │\n",
       "│ 3  │ s1_dframe3 │ 1          │ 3                    │ 21          │ True  │\n",
       "└────┴────────────┴────────────┴──────────────────────┴─────────────┴───────┘\n",
       "</pre>\n"
      ],
      "text/plain": [
       "┏━━━━┳━━━━━━━━━━━━┳━━━━━━━━━━━━┳━━━━━━━━━━━━━━━━━━━━━━┳━━━━━━━━━━━━━┳━━━━━━━┓\n",
       "┃\u001b[1m \u001b[0m\u001b[1mID\u001b[0m\u001b[1m \u001b[0m┃\u001b[1m \u001b[0m\u001b[1mName      \u001b[0m\u001b[1m \u001b[0m┃\u001b[1m \u001b[0m\u001b[1mSession ID\u001b[0m\u001b[1m \u001b[0m┃\u001b[1m \u001b[0m\u001b[1mLast Session Task ID\u001b[0m\u001b[1m \u001b[0m┃\u001b[1m \u001b[0m\u001b[1mNo. Columns\u001b[0m\u001b[1m \u001b[0m┃\u001b[1m \u001b[0m\u001b[1mReady\u001b[0m\u001b[1m \u001b[0m┃\n",
       "┡━━━━╇━━━━━━━━━━━━╇━━━━━━━━━━━━╇━━━━━━━━━━━━━━━━━━━━━━╇━━━━━━━━━━━━━╇━━━━━━━┩\n",
       "│ 1  │ s1_dframe1 │ 1          │ 4                    │ 24          │ True  │\n",
       "│ 2  │ s1_dframe2 │ 1          │ 2                    │ 21          │ True  │\n",
       "│ 3  │ s1_dframe3 │ 1          │ 3                    │ 21          │ True  │\n",
       "└────┴────────────┴────────────┴──────────────────────┴─────────────┴───────┘\n"
      ]
     },
     "metadata": {},
     "output_type": "display_data"
    }
   ],
   "source": [
    "#list session's dataframes (session= 2)\n",
    "client.session.dataframes(1, display=True);"
   ]
  },
  {
   "cell_type": "code",
   "execution_count": null,
   "metadata": {},
   "outputs": [],
   "source": [
    "help(client.dataframe.get)"
   ]
  },
  {
   "cell_type": "code",
   "execution_count": null,
   "metadata": {},
   "outputs": [],
   "source": [
    "client.dataframe.get(1, display=True);"
   ]
  },
  {
   "cell_type": "code",
   "execution_count": null,
   "metadata": {},
   "outputs": [],
   "source": [
    "help(client.dataframe.preprocess)"
   ]
  },
  {
   "cell_type": "code",
   "execution_count": null,
   "metadata": {},
   "outputs": [],
   "source": [
    "#Why session ID and not dataframe id?\n",
    "client.dataframe.preprocess(1, image=\"ghcr.io/hcadavid/v6-sessions-k8s-diagnostics:latest\", method=\"pre_process2\",input_={    \n",
    "    \"args\": [\"Age\", \"PlusAge\"],\n",
    "    \"kwargs\": {}\n",
    "})\n"
   ]
  },
  {
   "cell_type": "code",
   "execution_count": null,
   "metadata": {},
   "outputs": [],
   "source": [
    "#Check updated dataframe\n",
    "client.dataframe.get(3, display=True);"
   ]
  },
  {
   "cell_type": "code",
   "execution_count": null,
   "metadata": {},
   "outputs": [],
   "source": [
    "sessions = client.session.list(display=True)"
   ]
  },
  {
   "cell_type": "code",
   "execution_count": null,
   "metadata": {},
   "outputs": [],
   "source": [
    "client.session.tree()"
   ]
  },
  {
   "cell_type": "code",
   "execution_count": null,
   "metadata": {},
   "outputs": [],
   "source": [
    "[client.session.delete(id_, delete_dependents=True) for id_ in [1,2]]"
   ]
  },
  {
   "cell_type": "code",
   "execution_count": null,
   "metadata": {},
   "outputs": [],
   "source": [
    "client.session.task_tree(9)"
   ]
  },
  {
   "cell_type": "code",
   "execution_count": null,
   "metadata": {},
   "outputs": [],
   "source": [
    "a = client.dataframe.get(\"eloquent_knuth\", 1)"
   ]
  },
  {
   "cell_type": "code",
   "execution_count": null,
   "metadata": {},
   "outputs": [],
   "source": [
    "help(client.task.create)"
   ]
  },
  {
   "cell_type": "code",
   "execution_count": null,
   "metadata": {},
   "outputs": [],
   "source": [
    "# Network diagnostics\n",
    "task = client.task.create(name=\"network diagnostics\", description=\"anwdiag\", collaboration=1,\n",
    "                   organizations=[2,3,4],\n",
    "                   databases=[{\"label\": \"s1_dframe1\", \"type\": \"dataframe\", \"dataframe_id\":\"1\"}], \n",
    "                   image=\"ghcr.io/hcadavid/v6-sessions-k8s-diagnostics:latest\", method=\"network_status\", \n",
    "                   action=\"federated compute\",\n",
    "                   input_={\n",
    "                    \"args\": [1],\n",
    "                    \"kwargs\": {}\n",
    "                   }\n",
    ", session=1)\n",
    "\n",
    "client.wait_for_results(task['job_id'])"
   ]
  },
  {
   "cell_type": "code",
   "execution_count": null,
   "metadata": {},
   "outputs": [],
   "source": [
    "# Network diagnostics\n",
    "task = client.task.create(name=\"network diagnostics\", description=\"anwdiag\", collaboration=1,\n",
    "                   organizations=[2,3,4],\n",
    "                   databases=[{\"label\": \"s1_dframe1\", \"type\": \"dataframe\", \"dataframe_id\":\"1\"}], \n",
    "                   image=\"ghcr.io/hcadavid/v6-sessions-k8s-diagnostics:latest\", method=\"network_status\", \n",
    "                   action=\"federated compute\",\n",
    "                   input_={\n",
    "                    \"args\": [1500],\n",
    "                    \"kwargs\": {}\n",
    "                   }\n",
    ", session=1)\n",
    "\n",
    "client.wait_for_results(task['job_id'])"
   ]
  },
  {
   "cell_type": "code",
   "execution_count": 116,
   "metadata": {},
   "outputs": [
    {
     "name": "stdout",
     "output_type": "stream",
     "text": [
      "Done!                  21s)"
     ]
    },
    {
     "data": {
      "text/plain": [
       "{'data': [{'cleanup_at': None,\n",
       "   'action': 'federated compute',\n",
       "   'id': 54,\n",
       "   'run': {'id': 54, 'link': '/server/run/54', 'methods': ['GET', 'PATCH']},\n",
       "   'result': '{\"sum\": 66935, \"count\": 2424}',\n",
       "   'task': {'id': 22,\n",
       "    'link': '/server/task/22',\n",
       "    'methods': ['GET', 'DELETE']}},\n",
       "  {'cleanup_at': None,\n",
       "   'action': 'federated compute',\n",
       "   'id': 53,\n",
       "   'run': {'id': 53, 'link': '/server/run/53', 'methods': ['GET', 'PATCH']},\n",
       "   'result': '{\"sum\": 66935, \"count\": 2424}',\n",
       "   'task': {'id': 22,\n",
       "    'link': '/server/task/22',\n",
       "    'methods': ['GET', 'DELETE']}},\n",
       "  {'cleanup_at': None,\n",
       "   'action': 'federated compute',\n",
       "   'id': 52,\n",
       "   'run': {'id': 52, 'link': '/server/run/52', 'methods': ['GET', 'PATCH']},\n",
       "   'result': '{\"sum\": 66935, \"count\": 2424}',\n",
       "   'task': {'id': 22,\n",
       "    'link': '/server/task/22',\n",
       "    'methods': ['GET', 'DELETE']}}],\n",
       " 'links': {'first': '/server/result?task_id=22&page=1',\n",
       "  'self': '/server/result?task_id=22&page=1',\n",
       "  'last': '/server/result?task_id=22&page=1'}}"
      ]
     },
     "execution_count": 116,
     "metadata": {},
     "output_type": "execute_result"
    }
   ],
   "source": [
    "\n",
    "# Creating a task that uses pre-processed data\n",
    "task = client.task.create(name=\"fedavg\", description=\"aaabbccc\", collaboration=1,\n",
    "                   organizations=[2,3,4],\n",
    "                   databases=[{\"label\": \"s2_dframe1\", \"type\": \"dataframe\", \"dataframe_id\":\"1\"}], \n",
    "                   image=\"ghcr.io/hcadavid/v6-sessions-k8s-diagnostics:latest\", method=\"federated_avg\", \n",
    "                   action=\"federated compute\",\n",
    "                   input_={\n",
    "                    \"args\": [\"Age\"],\n",
    "                    \"kwargs\": {}\n",
    "                   }\n",
    ", session=1)\n",
    "\n",
    "client.wait_for_results(task['job_id'])"
   ]
  },
  {
   "cell_type": "markdown",
   "metadata": {},
   "source": [
    "### Central function"
   ]
  },
  {
   "cell_type": "code",
   "execution_count": null,
   "metadata": {},
   "outputs": [
    {
     "name": "stdout",
     "output_type": "stream",
     "text": [
      "Done!                  "
     ]
    },
    {
     "data": {
      "text/plain": [
       "{'data': [{'cleanup_at': None,\n",
       "   'action': 'federated compute',\n",
       "   'id': 58,\n",
       "   'run': {'id': 58, 'link': '/server/run/58', 'methods': ['GET', 'PATCH']},\n",
       "   'result': '',\n",
       "   'task': {'id': 24,\n",
       "    'link': '/server/task/24',\n",
       "    'methods': ['GET', 'DELETE']}},\n",
       "  {'cleanup_at': None,\n",
       "   'action': 'federated compute',\n",
       "   'id': 57,\n",
       "   'run': {'id': 57, 'link': '/server/run/57', 'methods': ['GET', 'PATCH']},\n",
       "   'result': '',\n",
       "   'task': {'id': 24,\n",
       "    'link': '/server/task/24',\n",
       "    'methods': ['GET', 'DELETE']}},\n",
       "  {'cleanup_at': None,\n",
       "   'action': 'federated compute',\n",
       "   'id': 56,\n",
       "   'run': {'id': 56, 'link': '/server/run/56', 'methods': ['GET', 'PATCH']},\n",
       "   'result': '',\n",
       "   'task': {'id': 24,\n",
       "    'link': '/server/task/24',\n",
       "    'methods': ['GET', 'DELETE']}}],\n",
       " 'links': {'first': '/server/result?task_id=24&page=1',\n",
       "  'self': '/server/result?task_id=24&page=1',\n",
       "  'last': '/server/result?task_id=24&page=1'}}"
      ]
     },
     "execution_count": 118,
     "metadata": {},
     "output_type": "execute_result"
    }
   ],
   "source": [
    "# Creating a task that uses pre-processed data\n",
    "task = client.task.create(name=\"fedavg\", description=\"aaabbccc\", collaboration=1,\n",
    "                   organizations=[2],\n",
    "                   databases=[{\"label\": \"s2_dframe1\", \"type\": \"dataframe\", \"dataframe_id\":\"1\"}], \n",
    "                   image=\"ghcr.io/hcadavid/v6-sessions-k8s-diagnostics:latest\", method=\"central_average\", \n",
    "                   action=\"central compute\",\n",
    "                   input_={\n",
    "                    \"args\": [\"Age\",1],\n",
    "                    \"kwargs\": {}\n",
    "                   }\n",
    ", session=1)\n",
    "\n",
    "client.wait_for_results(task['job_id'])"
   ]
  },
  {
   "cell_type": "code",
   "execution_count": null,
   "metadata": {},
   "outputs": [],
   "source": [
    "from rich.table import Table\n",
    "from rich.console import Console\n",
    "\n",
    "table = Table(title=\"DF\")"
   ]
  }
 ],
 "metadata": {
  "kernelspec": {
   "display_name": "vantage6-5.0.0a15",
   "language": "python",
   "name": "python3"
  },
  "language_info": {
   "codemirror_mode": {
    "name": "ipython",
    "version": 3
   },
   "file_extension": ".py",
   "mimetype": "text/x-python",
   "name": "python",
   "nbconvert_exporter": "python",
   "pygments_lexer": "ipython3",
   "version": "3.10.16"
  }
 },
 "nbformat": 4,
 "nbformat_minor": 2
}
