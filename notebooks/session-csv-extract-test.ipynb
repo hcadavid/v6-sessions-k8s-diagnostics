{
 "cells": [
  {
   "cell_type": "code",
   "execution_count": 1,
   "metadata": {},
   "outputs": [],
   "source": [
    "# Load the autoreload extension\n",
    "%load_ext autoreload\n",
    "\n",
    "# Set autoreload mode to reload all modules before executing code\n",
    "%autoreload 2\n",
    "\n",
    "from vantage6.client import Client"
   ]
  },
  {
   "cell_type": "code",
   "execution_count": 2,
   "metadata": {},
   "outputs": [
    {
     "name": "stdout",
     "output_type": "stream",
     "text": [
      " Welcome to\n",
      "                  _                     __  \n",
      "                 | |                   / /  \n",
      "__   ____ _ _ __ | |_ __ _  __ _  ___ / /_  \n",
      "\\ \\ / / _` | '_ \\| __/ _` |/ _` |/ _ \\ '_ \\ \n",
      " \\ V / (_| | | | | || (_| | (_| |  __/ (_) |\n",
      "  \\_/ \\__,_|_| |_|\\__\\__,_|\\__, |\\___|\\___/ \n",
      "                            __/ |           \n",
      "                           |___/            \n",
      "\n",
      " --> Join us on Discord! https://discord.gg/rwRvwyK\n",
      " --> Docs: https://docs.vantage6.ai\n",
      " --> Blog: https://vantage6.ai\n",
      "------------------------------------------------------------\n",
      "Cite us!\n",
      "If you publish your findings obtained using vantage6, \n",
      "please cite the proper sources as mentioned in:\n",
      "https://vantage6.ai/vantage6/references\n",
      "------------------------------------------------------------\n"
     ]
    }
   ],
   "source": [
    "client = Client(\"http://localhost\", 7601, \"/server\", log_level=\"INFO\")"
   ]
  },
  {
   "cell_type": "code",
   "execution_count": null,
   "metadata": {},
   "outputs": [],
   "source": [
    "help(client.setup_collaboration)"
   ]
  },
  {
   "cell_type": "code",
   "execution_count": 3,
   "metadata": {},
   "outputs": [
    {
     "name": "stdout",
     "output_type": "stream",
     "text": [
      "Successfully authenticated\n",
      " --> Succesfully authenticated\n",
      " --> Name: user 1 (id=2)\n",
      " --> Organization: org_1 (id=2)\n",
      "Setting up collaboration 1\n"
     ]
    }
   ],
   "source": [
    "client.authenticate(\"user_1\", \"Password123!\")\n",
    "client.setup_encryption(None)\n",
    "client.setup_collaboration(1)"
   ]
  },
  {
   "cell_type": "markdown",
   "metadata": {},
   "source": [
    "# Basic Session Management"
   ]
  },
  {
   "cell_type": "code",
   "execution_count": null,
   "metadata": {},
   "outputs": [],
   "source": [
    "a = client.session.create(name=\"session_two\",scope=\"collaboration\", display=True)"
   ]
  },
  {
   "cell_type": "code",
   "execution_count": 4,
   "metadata": {},
   "outputs": [
    {
     "data": {
      "text/html": [
       "<pre style=\"white-space:pre;overflow-x:auto;line-height:normal;font-family:Menlo,'DejaVu Sans Mono',consolas,'Courier New',monospace\"><span style=\"font-style: italic\">                                           Sessions                                           </span>\n",
       "┏━━━━┳━━━━━━━━━━━━━┳━━━━━━━┳━━━━━━━━━━━━━━━━━━━━━━━━━━━━┳━━━━━━━━━━━━━━━━━━━━━━━━━━━━┳━━━━━━━┓\n",
       "┃<span style=\"font-weight: bold\"> ID </span>┃<span style=\"font-weight: bold\"> Name        </span>┃<span style=\"font-weight: bold\"> scope </span>┃<span style=\"font-weight: bold\"> created_at                 </span>┃<span style=\"font-weight: bold\"> last_used_at               </span>┃<span style=\"font-weight: bold\"> ready </span>┃\n",
       "┡━━━━╇━━━━━━━━━━━━━╇━━━━━━━╇━━━━━━━━━━━━━━━━━━━━━━━━━━━━╇━━━━━━━━━━━━━━━━━━━━━━━━━━━━╇━━━━━━━┩\n",
       "│ 2  │ session_two │ col   │ 2025-04-24T11:29:44.404113 │ 2025-04-24T11:29:44.404145 │ True  │\n",
       "└────┴─────────────┴───────┴────────────────────────────┴────────────────────────────┴───────┘\n",
       "</pre>\n"
      ],
      "text/plain": [
       "\u001b[3m                                           Sessions                                           \u001b[0m\n",
       "┏━━━━┳━━━━━━━━━━━━━┳━━━━━━━┳━━━━━━━━━━━━━━━━━━━━━━━━━━━━┳━━━━━━━━━━━━━━━━━━━━━━━━━━━━┳━━━━━━━┓\n",
       "┃\u001b[1m \u001b[0m\u001b[1mID\u001b[0m\u001b[1m \u001b[0m┃\u001b[1m \u001b[0m\u001b[1mName       \u001b[0m\u001b[1m \u001b[0m┃\u001b[1m \u001b[0m\u001b[1mscope\u001b[0m\u001b[1m \u001b[0m┃\u001b[1m \u001b[0m\u001b[1mcreated_at                \u001b[0m\u001b[1m \u001b[0m┃\u001b[1m \u001b[0m\u001b[1mlast_used_at              \u001b[0m\u001b[1m \u001b[0m┃\u001b[1m \u001b[0m\u001b[1mready\u001b[0m\u001b[1m \u001b[0m┃\n",
       "┡━━━━╇━━━━━━━━━━━━━╇━━━━━━━╇━━━━━━━━━━━━━━━━━━━━━━━━━━━━╇━━━━━━━━━━━━━━━━━━━━━━━━━━━━╇━━━━━━━┩\n",
       "│ 2  │ session_two │ col   │ 2025-04-24T11:29:44.404113 │ 2025-04-24T11:29:44.404145 │ True  │\n",
       "└────┴─────────────┴───────┴────────────────────────────┴────────────────────────────┴───────┘\n"
      ]
     },
     "metadata": {},
     "output_type": "display_data"
    },
    {
     "data": {
      "text/plain": [
       "{'study': None,\n",
       " 'tasks': '/server/task?session_id=2',\n",
       " 'owner': {'id': 2,\n",
       "  'link': '/server/user/2',\n",
       "  'methods': ['GET', 'DELETE', 'PATCH']},\n",
       " 'name': 'session_two',\n",
       " 'id': 2,\n",
       " 'last_used_at': '2025-04-24T11:29:44.404145',\n",
       " 'ready': True,\n",
       " 'scope': 'col',\n",
       " 'collaboration': {'id': 1,\n",
       "  'link': '/server/collaboration/1',\n",
       "  'methods': ['GET', 'DELETE', 'PATCH']},\n",
       " 'created_at': '2025-04-24T11:29:44.404113',\n",
       " 'dataframes': '/server/session/2/dataframe'}"
      ]
     },
     "execution_count": 4,
     "metadata": {},
     "output_type": "execute_result"
    }
   ],
   "source": [
    "client.session.get(2,display=True)"
   ]
  },
  {
   "cell_type": "code",
   "execution_count": null,
   "metadata": {},
   "outputs": [],
   "source": [
    "client.collaboration.get(1)"
   ]
  },
  {
   "cell_type": "code",
   "execution_count": null,
   "metadata": {},
   "outputs": [],
   "source": [
    "client.organization.list(collaboration=1)"
   ]
  },
  {
   "cell_type": "code",
   "execution_count": null,
   "metadata": {},
   "outputs": [],
   "source": [
    "client.session.list(display=True);"
   ]
  },
  {
   "cell_type": "code",
   "execution_count": null,
   "metadata": {},
   "outputs": [],
   "source": [
    "client.session.update(9, name=\"new name4\", scope=\"own\", display=True);"
   ]
  },
  {
   "cell_type": "code",
   "execution_count": null,
   "metadata": {},
   "outputs": [],
   "source": [
    "client.session.get(id_=1, display=True);"
   ]
  },
  {
   "cell_type": "code",
   "execution_count": null,
   "metadata": {},
   "outputs": [],
   "source": [
    "help(client.dataframe.create)"
   ]
  },
  {
   "cell_type": "code",
   "execution_count": 5,
   "metadata": {},
   "outputs": [
    {
     "data": {
      "text/html": [
       "<pre style=\"white-space:pre;overflow-x:auto;line-height:normal;font-family:Menlo,'DejaVu Sans Mono',consolas,'Courier New',monospace\">┏━━━━┳━━━━━━━━━━━━┳━━━━━━━━━━━━┳━━━━━━━━━━━━━━━━━━━━━━┳━━━━━━━━━━━━━┳━━━━━━━┓\n",
       "┃<span style=\"font-weight: bold\"> ID </span>┃<span style=\"font-weight: bold\"> Name       </span>┃<span style=\"font-weight: bold\"> Session ID </span>┃<span style=\"font-weight: bold\"> Last Session Task ID </span>┃<span style=\"font-weight: bold\"> No. Columns </span>┃<span style=\"font-weight: bold\"> Ready </span>┃\n",
       "┡━━━━╇━━━━━━━━━━━━╇━━━━━━━━━━━━╇━━━━━━━━━━━━━━━━━━━━━━╇━━━━━━━━━━━━━╇━━━━━━━┩\n",
       "│ 2  │ s2_dframe1 │ 2          │ 3                    │ 0           │ True  │\n",
       "└────┴────────────┴────────────┴──────────────────────┴─────────────┴───────┘\n",
       "</pre>\n"
      ],
      "text/plain": [
       "┏━━━━┳━━━━━━━━━━━━┳━━━━━━━━━━━━┳━━━━━━━━━━━━━━━━━━━━━━┳━━━━━━━━━━━━━┳━━━━━━━┓\n",
       "┃\u001b[1m \u001b[0m\u001b[1mID\u001b[0m\u001b[1m \u001b[0m┃\u001b[1m \u001b[0m\u001b[1mName      \u001b[0m\u001b[1m \u001b[0m┃\u001b[1m \u001b[0m\u001b[1mSession ID\u001b[0m\u001b[1m \u001b[0m┃\u001b[1m \u001b[0m\u001b[1mLast Session Task ID\u001b[0m\u001b[1m \u001b[0m┃\u001b[1m \u001b[0m\u001b[1mNo. Columns\u001b[0m\u001b[1m \u001b[0m┃\u001b[1m \u001b[0m\u001b[1mReady\u001b[0m\u001b[1m \u001b[0m┃\n",
       "┡━━━━╇━━━━━━━━━━━━╇━━━━━━━━━━━━╇━━━━━━━━━━━━━━━━━━━━━━╇━━━━━━━━━━━━━╇━━━━━━━┩\n",
       "│ 2  │ s2_dframe1 │ 2          │ 3                    │ 0           │ True  │\n",
       "└────┴────────────┴────────────┴──────────────────────┴─────────────┴───────┘\n"
      ]
     },
     "metadata": {},
     "output_type": "display_data"
    },
    {
     "data": {
      "text/plain": [
       "{'last_session_task': {'finished_at': None,\n",
       "  'job_id': 3,\n",
       "  'children': '/server/task?parent_id=3',\n",
       "  'created_at': '2025-04-24T14:45:30.352428',\n",
       "  'status': 'awaiting',\n",
       "  'image': 'harbor2.vantage6.ai/algorithms/session-basics',\n",
       "  'runs': '/server/run?task_id=3',\n",
       "  'init_user': {'id': 2,\n",
       "   'link': '/server/user/2',\n",
       "   'methods': ['GET', 'DELETE', 'PATCH']},\n",
       "  'id': 3,\n",
       "  'init_org': {'id': 2,\n",
       "   'link': '/server/organization/2',\n",
       "   'methods': ['GET', 'DELETE', 'PATCH']},\n",
       "  'method': 'read_csv',\n",
       "  'results': '/server/result?task_id=3',\n",
       "  'session': {'id': 2,\n",
       "   'link': '/server/session/2',\n",
       "   'methods': ['GET', 'DELETE', 'PATCH']},\n",
       "  'name': 'Session initialization: session_two',\n",
       "  'depends_on': [],\n",
       "  'collaboration': {'id': 1,\n",
       "   'link': '/server/collaboration/1',\n",
       "   'methods': ['GET', 'DELETE', 'PATCH']},\n",
       "  'study': None,\n",
       "  'algorithm_store': None,\n",
       "  'parent': None,\n",
       "  'dataframe': {'id': 2, 'db_label': 'default', 'name': 's2_dframe1'},\n",
       "  'required_by': [],\n",
       "  'description': 'Data extraction step for session session_two (2).This session is in the collab 1 collaboration. Data extraction is done on the default database, and the dataframe name will be s2_dframe1.',\n",
       "  'databases': [{'label': 'default',\n",
       "    'type': 'source',\n",
       "    'dataframe_id': None,\n",
       "    'dataframe_name': None}]},\n",
       " 'tasks': '/server/task?dataframe_id=2',\n",
       " 'session': {'id': 2,\n",
       "  'link': '/server/session/2',\n",
       "  'methods': ['GET', 'DELETE', 'PATCH']},\n",
       " 'name': 's2_dframe1',\n",
       " 'id': 2,\n",
       " 'ready': True,\n",
       " 'db_label': 'default',\n",
       " 'columns': []}"
      ]
     },
     "execution_count": 5,
     "metadata": {},
     "output_type": "execute_result"
    }
   ],
   "source": [
    "# session_id=1\n",
    "\n",
    "client.dataframe.create(label=\"default\",image=\"harbor2.vantage6.ai/algorithms/session-basics\",method=\"read_csv\", name=\"s2_dframe1\", session=2,display=True,input_={'kwargs': {}})\n",
    "\n"
   ]
  },
  {
   "cell_type": "code",
   "execution_count": 6,
   "metadata": {},
   "outputs": [
    {
     "data": {
      "text/html": [
       "<pre style=\"white-space:pre;overflow-x:auto;line-height:normal;font-family:Menlo,'DejaVu Sans Mono',consolas,'Courier New',monospace\">┏━━━━┳━━━━━━━━━━━━┳━━━━━━━━━━━━┳━━━━━━━━━━━━━━━━━━━━━━┳━━━━━━━━━━━━━┳━━━━━━━┓\n",
       "┃<span style=\"font-weight: bold\"> ID </span>┃<span style=\"font-weight: bold\"> Name       </span>┃<span style=\"font-weight: bold\"> Session ID </span>┃<span style=\"font-weight: bold\"> Last Session Task ID </span>┃<span style=\"font-weight: bold\"> No. Columns </span>┃<span style=\"font-weight: bold\"> Ready </span>┃\n",
       "┡━━━━╇━━━━━━━━━━━━╇━━━━━━━━━━━━╇━━━━━━━━━━━━━━━━━━━━━━╇━━━━━━━━━━━━━╇━━━━━━━┩\n",
       "│ 2  │ s2_dframe1 │ 2          │ 3                    │ 21          │ True  │\n",
       "└────┴────────────┴────────────┴──────────────────────┴─────────────┴───────┘\n",
       "</pre>\n"
      ],
      "text/plain": [
       "┏━━━━┳━━━━━━━━━━━━┳━━━━━━━━━━━━┳━━━━━━━━━━━━━━━━━━━━━━┳━━━━━━━━━━━━━┳━━━━━━━┓\n",
       "┃\u001b[1m \u001b[0m\u001b[1mID\u001b[0m\u001b[1m \u001b[0m┃\u001b[1m \u001b[0m\u001b[1mName      \u001b[0m\u001b[1m \u001b[0m┃\u001b[1m \u001b[0m\u001b[1mSession ID\u001b[0m\u001b[1m \u001b[0m┃\u001b[1m \u001b[0m\u001b[1mLast Session Task ID\u001b[0m\u001b[1m \u001b[0m┃\u001b[1m \u001b[0m\u001b[1mNo. Columns\u001b[0m\u001b[1m \u001b[0m┃\u001b[1m \u001b[0m\u001b[1mReady\u001b[0m\u001b[1m \u001b[0m┃\n",
       "┡━━━━╇━━━━━━━━━━━━╇━━━━━━━━━━━━╇━━━━━━━━━━━━━━━━━━━━━━╇━━━━━━━━━━━━━╇━━━━━━━┩\n",
       "│ 2  │ s2_dframe1 │ 2          │ 3                    │ 21          │ True  │\n",
       "└────┴────────────┴────────────┴──────────────────────┴─────────────┴───────┘\n"
      ]
     },
     "metadata": {},
     "output_type": "display_data"
    }
   ],
   "source": [
    "#list session's dataframes (session= 2)\n",
    "client.session.dataframes(2, display=True);"
   ]
  },
  {
   "cell_type": "code",
   "execution_count": null,
   "metadata": {},
   "outputs": [],
   "source": [
    "help(client.dataframe.get)"
   ]
  },
  {
   "cell_type": "code",
   "execution_count": null,
   "metadata": {},
   "outputs": [],
   "source": [
    "client.dataframe.get(2, display=True);"
   ]
  },
  {
   "cell_type": "code",
   "execution_count": null,
   "metadata": {},
   "outputs": [],
   "source": [
    "help(client.dataframe.preprocess)"
   ]
  },
  {
   "cell_type": "code",
   "execution_count": null,
   "metadata": {},
   "outputs": [],
   "source": [
    "#Why session ID and not dataframe id?\n",
    "client.dataframe.preprocess(2, image=\"ghcr.io/hcadavid/v6-sessions-k8s-diagnostics:latest\", method=\"pre_process\",input_={    \n",
    "    \"args\": [\"Age\", \"int64\"],\n",
    "    \"kwargs\": {}\n",
    "})"
   ]
  },
  {
   "cell_type": "code",
   "execution_count": null,
   "metadata": {},
   "outputs": [],
   "source": [
    "#Check updated dataframe\n",
    "client.dataframe.get(1, display=True);"
   ]
  },
  {
   "cell_type": "code",
   "execution_count": null,
   "metadata": {},
   "outputs": [],
   "source": [
    "#preprocess 2\n",
    "client.dataframe.preprocess(1, image=\"harbor2.vantage6.ai/algorithms/session-basics\", method=\"pre_process2\",input_={    \n",
    "    \"args\": [\"PlusAge\"],\n",
    "    \"kwargs\": {}\n",
    "})"
   ]
  },
  {
   "cell_type": "code",
   "execution_count": null,
   "metadata": {},
   "outputs": [],
   "source": [
    "sessions = client.session.list(display=True)"
   ]
  },
  {
   "cell_type": "code",
   "execution_count": null,
   "metadata": {},
   "outputs": [],
   "source": [
    "client.session.tree()"
   ]
  },
  {
   "cell_type": "code",
   "execution_count": null,
   "metadata": {},
   "outputs": [],
   "source": [
    "[client.session.delete(id_, delete_dependents=True) for id_ in [1,2]]"
   ]
  },
  {
   "cell_type": "code",
   "execution_count": null,
   "metadata": {},
   "outputs": [],
   "source": [
    "client.session.task_tree(9)"
   ]
  },
  {
   "cell_type": "code",
   "execution_count": null,
   "metadata": {},
   "outputs": [],
   "source": [
    "a = client.dataframe.get(\"eloquent_knuth\", 1)"
   ]
  },
  {
   "cell_type": "code",
   "execution_count": null,
   "metadata": {},
   "outputs": [],
   "source": [
    "help(client.task.create)"
   ]
  },
  {
   "cell_type": "code",
   "execution_count": null,
   "metadata": {},
   "outputs": [],
   "source": [
    "# Creating a task that uses pre-processed data\n",
    "client.task.create(name=\"compute_something\", description=\"aaabbccc\", collaboration=1,\n",
    "                   organizations=[2,3,4],\n",
    "                   databases=[{\"label\": \"s1_dframe1\", \"type\": \"dataframe\", \"dataframe_id\":\"1\"}], \n",
    "                   image=\"harbor2.vantage6.ai/algorithms/session-basics\", method=\"sum\", \n",
    "                   action=\"federated compute\",\n",
    "                   input_={\n",
    "                    \"args\": [\"Age\"],\n",
    "                    \"kwargs\": {}\n",
    "                   }\n",
    ", session=1)"
   ]
  },
  {
   "cell_type": "code",
   "execution_count": null,
   "metadata": {},
   "outputs": [],
   "source": [
    "client.wait_for_results(12)"
   ]
  },
  {
   "cell_type": "code",
   "execution_count": null,
   "metadata": {},
   "outputs": [],
   "source": [
    "from rich.table import Table\n",
    "from rich.console import Console\n",
    "\n",
    "table = Table(title=\"DF\")"
   ]
  }
 ],
 "metadata": {
  "kernelspec": {
   "display_name": "vantage6-5.0.0a15",
   "language": "python",
   "name": "python3"
  },
  "language_info": {
   "codemirror_mode": {
    "name": "ipython",
    "version": 3
   },
   "file_extension": ".py",
   "mimetype": "text/x-python",
   "name": "python",
   "nbconvert_exporter": "python",
   "pygments_lexer": "ipython3",
   "version": "3.10.16"
  }
 },
 "nbformat": 4,
 "nbformat_minor": 2
}
