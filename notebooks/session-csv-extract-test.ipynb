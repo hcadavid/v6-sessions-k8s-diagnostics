{
 "cells": [
  {
   "cell_type": "code",
   "execution_count": null,
   "metadata": {},
   "outputs": [],
   "source": [
    "# Load the autoreload extension\n",
    "%load_ext autoreload\n",
    "\n",
    "# Set autoreload mode to reload all modules before executing code\n",
    "%autoreload 2\n",
    "\n",
    "from vantage6.client import Client\n",
    "\n",
    "client = Client(\"http://localhost\", 7601, \"/server\", log_level=\"INFO\")\n",
    "client.authenticate(\"user_1\", \"Password123!\")\n"
   ]
  },
  {
   "cell_type": "code",
   "execution_count": null,
   "metadata": {},
   "outputs": [],
   "source": [
    "client.setup_encryption(None)\n",
    "client.setup_collaboration(1)"
   ]
  },
  {
   "cell_type": "code",
   "execution_count": null,
   "metadata": {},
   "outputs": [],
   "source": [
    "help(client.setup_collaboration)"
   ]
  },
  {
   "cell_type": "markdown",
   "metadata": {},
   "source": [
    "# Basic Session Management"
   ]
  },
  {
   "cell_type": "code",
   "execution_count": 14,
   "metadata": {},
   "outputs": [
    {
     "data": {
      "text/html": [
       "<pre style=\"white-space:pre;overflow-x:auto;line-height:normal;font-family:Menlo,'DejaVu Sans Mono',consolas,'Courier New',monospace\"><span style=\"font-style: italic\">                                           Sessions                                           </span>\n",
       "┏━━━━┳━━━━━━━━━━━━━┳━━━━━━━┳━━━━━━━━━━━━━━━━━━━━━━━━━━━━┳━━━━━━━━━━━━━━━━━━━━━━━━━━━━┳━━━━━━━┓\n",
       "┃<span style=\"font-weight: bold\"> ID </span>┃<span style=\"font-weight: bold\"> Name        </span>┃<span style=\"font-weight: bold\"> scope </span>┃<span style=\"font-weight: bold\"> created_at                 </span>┃<span style=\"font-weight: bold\"> last_used_at               </span>┃<span style=\"font-weight: bold\"> ready </span>┃\n",
       "┡━━━━╇━━━━━━━━━━━━━╇━━━━━━━╇━━━━━━━━━━━━━━━━━━━━━━━━━━━━╇━━━━━━━━━━━━━━━━━━━━━━━━━━━━╇━━━━━━━┩\n",
       "│ 1  │ session_two │ col   │ 2025-05-27T15:53:12.099465 │ 2025-05-27T15:53:12.099494 │ True  │\n",
       "└────┴─────────────┴───────┴────────────────────────────┴────────────────────────────┴───────┘\n",
       "</pre>\n"
      ],
      "text/plain": [
       "\u001b[3m                                           Sessions                                           \u001b[0m\n",
       "┏━━━━┳━━━━━━━━━━━━━┳━━━━━━━┳━━━━━━━━━━━━━━━━━━━━━━━━━━━━┳━━━━━━━━━━━━━━━━━━━━━━━━━━━━┳━━━━━━━┓\n",
       "┃\u001b[1m \u001b[0m\u001b[1mID\u001b[0m\u001b[1m \u001b[0m┃\u001b[1m \u001b[0m\u001b[1mName       \u001b[0m\u001b[1m \u001b[0m┃\u001b[1m \u001b[0m\u001b[1mscope\u001b[0m\u001b[1m \u001b[0m┃\u001b[1m \u001b[0m\u001b[1mcreated_at                \u001b[0m\u001b[1m \u001b[0m┃\u001b[1m \u001b[0m\u001b[1mlast_used_at              \u001b[0m\u001b[1m \u001b[0m┃\u001b[1m \u001b[0m\u001b[1mready\u001b[0m\u001b[1m \u001b[0m┃\n",
       "┡━━━━╇━━━━━━━━━━━━━╇━━━━━━━╇━━━━━━━━━━━━━━━━━━━━━━━━━━━━╇━━━━━━━━━━━━━━━━━━━━━━━━━━━━╇━━━━━━━┩\n",
       "│ 1  │ session_two │ col   │ 2025-05-27T15:53:12.099465 │ 2025-05-27T15:53:12.099494 │ True  │\n",
       "└────┴─────────────┴───────┴────────────────────────────┴────────────────────────────┴───────┘\n"
      ]
     },
     "metadata": {},
     "output_type": "display_data"
    }
   ],
   "source": [
    "a = client.session.create(name=\"session_two\",scope=\"collaboration\", display=True)"
   ]
  },
  {
   "cell_type": "code",
   "execution_count": 15,
   "metadata": {},
   "outputs": [
    {
     "data": {
      "text/html": [
       "<pre style=\"white-space:pre;overflow-x:auto;line-height:normal;font-family:Menlo,'DejaVu Sans Mono',consolas,'Courier New',monospace\"><span style=\"font-style: italic\">                                           Sessions                                           </span>\n",
       "┏━━━━┳━━━━━━━━━━━━━┳━━━━━━━┳━━━━━━━━━━━━━━━━━━━━━━━━━━━━┳━━━━━━━━━━━━━━━━━━━━━━━━━━━━┳━━━━━━━┓\n",
       "┃<span style=\"font-weight: bold\"> ID </span>┃<span style=\"font-weight: bold\"> Name        </span>┃<span style=\"font-weight: bold\"> scope </span>┃<span style=\"font-weight: bold\"> created_at                 </span>┃<span style=\"font-weight: bold\"> last_used_at               </span>┃<span style=\"font-weight: bold\"> ready </span>┃\n",
       "┡━━━━╇━━━━━━━━━━━━━╇━━━━━━━╇━━━━━━━━━━━━━━━━━━━━━━━━━━━━╇━━━━━━━━━━━━━━━━━━━━━━━━━━━━╇━━━━━━━┩\n",
       "│ 1  │ session_two │ col   │ 2025-05-27T15:53:12.099465 │ 2025-05-27T15:53:12.099494 │ True  │\n",
       "└────┴─────────────┴───────┴────────────────────────────┴────────────────────────────┴───────┘\n",
       "</pre>\n"
      ],
      "text/plain": [
       "\u001b[3m                                           Sessions                                           \u001b[0m\n",
       "┏━━━━┳━━━━━━━━━━━━━┳━━━━━━━┳━━━━━━━━━━━━━━━━━━━━━━━━━━━━┳━━━━━━━━━━━━━━━━━━━━━━━━━━━━┳━━━━━━━┓\n",
       "┃\u001b[1m \u001b[0m\u001b[1mID\u001b[0m\u001b[1m \u001b[0m┃\u001b[1m \u001b[0m\u001b[1mName       \u001b[0m\u001b[1m \u001b[0m┃\u001b[1m \u001b[0m\u001b[1mscope\u001b[0m\u001b[1m \u001b[0m┃\u001b[1m \u001b[0m\u001b[1mcreated_at                \u001b[0m\u001b[1m \u001b[0m┃\u001b[1m \u001b[0m\u001b[1mlast_used_at              \u001b[0m\u001b[1m \u001b[0m┃\u001b[1m \u001b[0m\u001b[1mready\u001b[0m\u001b[1m \u001b[0m┃\n",
       "┡━━━━╇━━━━━━━━━━━━━╇━━━━━━━╇━━━━━━━━━━━━━━━━━━━━━━━━━━━━╇━━━━━━━━━━━━━━━━━━━━━━━━━━━━╇━━━━━━━┩\n",
       "│ 1  │ session_two │ col   │ 2025-05-27T15:53:12.099465 │ 2025-05-27T15:53:12.099494 │ True  │\n",
       "└────┴─────────────┴───────┴────────────────────────────┴────────────────────────────┴───────┘\n"
      ]
     },
     "metadata": {},
     "output_type": "display_data"
    },
    {
     "data": {
      "text/plain": [
       "{'scope': 'col',\n",
       " 'dataframes': '/server/session/1/dataframe',\n",
       " 'last_used_at': '2025-05-27T15:53:12.099494',\n",
       " 'ready': True,\n",
       " 'owner': {'id': 2,\n",
       "  'link': '/server/user/2',\n",
       "  'methods': ['DELETE', 'GET', 'PATCH']},\n",
       " 'study': None,\n",
       " 'id': 1,\n",
       " 'name': 'session_two',\n",
       " 'tasks': '/server/task?session_id=1',\n",
       " 'collaboration': {'id': 1,\n",
       "  'link': '/server/collaboration/1',\n",
       "  'methods': ['DELETE', 'GET', 'PATCH']},\n",
       " 'created_at': '2025-05-27T15:53:12.099465'}"
      ]
     },
     "execution_count": 15,
     "metadata": {},
     "output_type": "execute_result"
    }
   ],
   "source": [
    "client.session.get(1,display=True)"
   ]
  },
  {
   "cell_type": "code",
   "execution_count": null,
   "metadata": {},
   "outputs": [],
   "source": [
    "client.collaboration.get(1)"
   ]
  },
  {
   "cell_type": "code",
   "execution_count": null,
   "metadata": {},
   "outputs": [],
   "source": [
    "client.organization.list(collaboration=1)"
   ]
  },
  {
   "cell_type": "code",
   "execution_count": null,
   "metadata": {},
   "outputs": [],
   "source": [
    "client.session.list(display=True);"
   ]
  },
  {
   "cell_type": "code",
   "execution_count": null,
   "metadata": {},
   "outputs": [],
   "source": [
    "client.session.update(9, name=\"new name4\", scope=\"own\", display=True);"
   ]
  },
  {
   "cell_type": "code",
   "execution_count": null,
   "metadata": {},
   "outputs": [],
   "source": [
    "client.session.get(id_=1, display=True);"
   ]
  },
  {
   "cell_type": "code",
   "execution_count": null,
   "metadata": {},
   "outputs": [],
   "source": [
    "help(client.dataframe.create)"
   ]
  },
  {
   "cell_type": "code",
   "execution_count": null,
   "metadata": {},
   "outputs": [],
   "source": [
    "# session_id=1\n",
    "\n",
    "client.dataframe.create(label=\"default\",image=\"harbor2.vantage6.ai/algorithms/session-basics\",method=\"read_csv\", name=\"s1_dframe2\", session=1,display=True,input_={'kwargs': {}})\n",
    "\n"
   ]
  },
  {
   "cell_type": "code",
   "execution_count": null,
   "metadata": {},
   "outputs": [],
   "source": [
    "#list session's dataframes (session= 2)\n",
    "client.session.dataframes(1, display=True);"
   ]
  },
  {
   "cell_type": "code",
   "execution_count": null,
   "metadata": {},
   "outputs": [],
   "source": [
    "help(client.dataframe.get)"
   ]
  },
  {
   "cell_type": "code",
   "execution_count": null,
   "metadata": {},
   "outputs": [],
   "source": [
    "client.dataframe.get(1, display=True);"
   ]
  },
  {
   "cell_type": "code",
   "execution_count": null,
   "metadata": {},
   "outputs": [],
   "source": [
    "help(client.dataframe.preprocess)"
   ]
  },
  {
   "cell_type": "code",
   "execution_count": null,
   "metadata": {},
   "outputs": [],
   "source": [
    "#Why session ID and not dataframe id?\n",
    "client.dataframe.preprocess(1, image=\"ghcr.io/hcadavid/v6-sessions-k8s-diagnostics:latest\", method=\"pre_process2\",input_={    \n",
    "    \"args\": [\"Age\", \"PlusAge\"],\n",
    "    \"kwargs\": {}\n",
    "})\n"
   ]
  },
  {
   "cell_type": "code",
   "execution_count": null,
   "metadata": {},
   "outputs": [],
   "source": [
    "#Check updated dataframe\n",
    "client.dataframe.get(1, display=True);"
   ]
  },
  {
   "cell_type": "code",
   "execution_count": null,
   "metadata": {},
   "outputs": [],
   "source": [
    "sessions = client.session.list(display=True)"
   ]
  },
  {
   "cell_type": "code",
   "execution_count": null,
   "metadata": {},
   "outputs": [],
   "source": [
    "client.session.tree()"
   ]
  },
  {
   "cell_type": "code",
   "execution_count": null,
   "metadata": {},
   "outputs": [],
   "source": [
    "[client.session.delete(id_, delete_dependents=True) for id_ in [1,2]]"
   ]
  },
  {
   "cell_type": "code",
   "execution_count": null,
   "metadata": {},
   "outputs": [],
   "source": [
    "client.session.task_tree(9)"
   ]
  },
  {
   "cell_type": "code",
   "execution_count": null,
   "metadata": {},
   "outputs": [],
   "source": [
    "a = client.dataframe.get(\"eloquent_knuth\", 1)"
   ]
  },
  {
   "cell_type": "code",
   "execution_count": null,
   "metadata": {},
   "outputs": [],
   "source": [
    "help(client.task.create)"
   ]
  },
  {
   "cell_type": "code",
   "execution_count": null,
   "metadata": {},
   "outputs": [],
   "source": [
    "# Network diagnostics\n",
    "task = client.task.create(name=\"network diagnostics\", description=\"anwdiag\", collaboration=1,\n",
    "                   organizations=[2,3,4],\n",
    "                   databases=[{\"label\": \"s1_dframe1\", \"type\": \"dataframe\", \"dataframe_id\":\"1\"}], \n",
    "                   image=\"ghcr.io/hcadavid/v6-sessions-k8s-diagnostics:latest\", method=\"network_status\", \n",
    "                   action=\"federated_compute\",\n",
    "                   input_={\n",
    "                    \"args\": [1],\n",
    "                    \"kwargs\": {}\n",
    "                   }\n",
    ", session=1)\n",
    "\n",
    "client.wait_for_results(task['job_id'])"
   ]
  },
  {
   "cell_type": "code",
   "execution_count": null,
   "metadata": {},
   "outputs": [],
   "source": [
    "# Network diagnostics\n",
    "task = client.task.create(name=\"network diagnostics\", description=\"anwdiag\", collaboration=1,\n",
    "                   organizations=[2,3,4],\n",
    "                   databases=[{\"label\": \"s1_dframe1\", \"type\": \"dataframe\", \"dataframe_id\":\"1\"}], \n",
    "                   image=\"ghcr.io/hcadavid/v6-sessions-k8s-diagnostics:latest\", method=\"network_status\", \n",
    "                   action=\"federated_compute\",\n",
    "                   input_={\n",
    "                    \"args\": [350],\n",
    "                    \"kwargs\": {}\n",
    "                   }\n",
    ", session=1)\n",
    "\n",
    "client.wait_for_results(task['job_id'])"
   ]
  },
  {
   "cell_type": "code",
   "execution_count": null,
   "metadata": {},
   "outputs": [],
   "source": [
    "\n",
    "# Creating a task that uses pre-processed data\n",
    "task = client.task.create(name=\"federated avg\", description=\"aaabbccc\", collaboration=1,\n",
    "                   organizations=[2,3,4],\n",
    "                   databases=[{\"label\": \"s2_dframe1\", \"type\": \"dataframe\", \"dataframe_id\":\"1\"}], \n",
    "                   image=\"ghcr.io/hcadavid/v6-sessions-k8s-diagnostics:latest\", method=\"federated_avg\", \n",
    "                   action=\"federated_compute\",\n",
    "                   input_={\n",
    "                    \"args\": [\"Age\"],\n",
    "                    \"kwargs\": {}\n",
    "                   }\n",
    ", session=1)\n",
    "\n",
    "client.wait_for_results(task['job_id'])"
   ]
  },
  {
   "cell_type": "markdown",
   "metadata": {},
   "source": [
    "### Central function"
   ]
  },
  {
   "cell_type": "code",
   "execution_count": null,
   "metadata": {},
   "outputs": [],
   "source": [
    "# Creating a task that uses pre-processed data\n",
    "task = client.task.create(name=\"central avg\", description=\"aaabbccc\", collaboration=1,\n",
    "                   organizations=[2],\n",
    "                   databases=[{\"label\": \"s2_dframe1\", \"type\": \"dataframe\", \"dataframe_id\":\"1\"}], \n",
    "                   image=\"ghcr.io/hcadavid/v6-sessions-k8s-diagnostics:latest\", method=\"central_average\", \n",
    "                   action=\"central_compute\",\n",
    "                   input_={\n",
    "                    \"args\": [\"Age\",1],\n",
    "                    \"kwargs\": {}\n",
    "                   }\n",
    ", session=1)\n",
    "\n",
    "client.wait_for_results(task['job_id'])"
   ]
  },
  {
   "cell_type": "code",
   "execution_count": null,
   "metadata": {},
   "outputs": [],
   "source": [
    "from rich.table import Table\n",
    "from rich.console import Console\n",
    "\n",
    "table = Table(title=\"DF\")"
   ]
  }
 ],
 "metadata": {
  "kernelspec": {
   "display_name": "vantage6-5.0.0a15",
   "language": "python",
   "name": "python3"
  },
  "language_info": {
   "codemirror_mode": {
    "name": "ipython",
    "version": 3
   },
   "file_extension": ".py",
   "mimetype": "text/x-python",
   "name": "python",
   "nbconvert_exporter": "python",
   "pygments_lexer": "ipython3",
   "version": "3.10.16"
  }
 },
 "nbformat": 4,
 "nbformat_minor": 2
}
