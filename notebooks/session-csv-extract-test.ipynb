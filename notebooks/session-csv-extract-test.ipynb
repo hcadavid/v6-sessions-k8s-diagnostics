{
 "cells": [
  {
   "cell_type": "code",
   "execution_count": 23,
   "metadata": {},
   "outputs": [
    {
     "name": "stdout",
     "output_type": "stream",
     "text": [
      "The autoreload extension is already loaded. To reload it, use:\n",
      "  %reload_ext autoreload\n",
      " Welcome to\n",
      "                  _                     __  \n",
      "                 | |                   / /  \n",
      "__   ____ _ _ __ | |_ __ _  __ _  ___ / /_  \n",
      "\\ \\ / / _` | '_ \\| __/ _` |/ _` |/ _ \\ '_ \\ \n",
      " \\ V / (_| | | | | || (_| | (_| |  __/ (_) |\n",
      "  \\_/ \\__,_|_| |_|\\__\\__,_|\\__, |\\___|\\___/ \n",
      "                            __/ |           \n",
      "                           |___/            \n",
      "\n",
      " --> Join us on Discord! https://discord.gg/rwRvwyK\n",
      " --> Docs: https://docs.vantage6.ai\n",
      " --> Blog: https://vantage6.ai\n",
      "------------------------------------------------------------\n",
      "Cite us!\n",
      "If you publish your findings obtained using vantage6, \n",
      "please cite the proper sources as mentioned in:\n",
      "https://vantage6.ai/vantage6/references\n",
      "------------------------------------------------------------\n",
      "Successfully authenticated\n",
      " --> Succesfully authenticated\n",
      " --> Name: user 1 (id=2)\n",
      " --> Organization: org_1 (id=2)\n"
     ]
    }
   ],
   "source": [
    "# Load the autoreload extension\n",
    "%load_ext autoreload\n",
    "\n",
    "# Set autoreload mode to reload all modules before executing code\n",
    "%autoreload 2\n",
    "\n",
    "from vantage6.client import Client\n",
    "\n",
    "client = Client(\"http://localhost\", 7601, \"/server\", log_level=\"INFO\")\n",
    "client.authenticate(\"user_1\", \"Password123!\")\n"
   ]
  },
  {
   "cell_type": "code",
   "execution_count": 24,
   "metadata": {},
   "outputs": [
    {
     "name": "stdout",
     "output_type": "stream",
     "text": [
      "Setting up collaboration 1\n"
     ]
    }
   ],
   "source": [
    "client.setup_encryption(None)\n",
    "client.setup_collaboration(1)"
   ]
  },
  {
   "cell_type": "code",
   "execution_count": null,
   "metadata": {},
   "outputs": [],
   "source": [
    "help(client.setup_collaboration)"
   ]
  },
  {
   "cell_type": "markdown",
   "metadata": {},
   "source": [
    "# Basic Session Management"
   ]
  },
  {
   "cell_type": "code",
   "execution_count": 25,
   "metadata": {},
   "outputs": [
    {
     "data": {
      "text/html": [
       "<pre style=\"white-space:pre;overflow-x:auto;line-height:normal;font-family:Menlo,'DejaVu Sans Mono',consolas,'Courier New',monospace\"><span style=\"font-style: italic\">                                           Sessions                                           </span>\n",
       "┏━━━━┳━━━━━━━━━━━━━┳━━━━━━━┳━━━━━━━━━━━━━━━━━━━━━━━━━━━━┳━━━━━━━━━━━━━━━━━━━━━━━━━━━━┳━━━━━━━┓\n",
       "┃<span style=\"font-weight: bold\"> ID </span>┃<span style=\"font-weight: bold\"> Name        </span>┃<span style=\"font-weight: bold\"> scope </span>┃<span style=\"font-weight: bold\"> created_at                 </span>┃<span style=\"font-weight: bold\"> last_used_at               </span>┃<span style=\"font-weight: bold\"> ready </span>┃\n",
       "┡━━━━╇━━━━━━━━━━━━━╇━━━━━━━╇━━━━━━━━━━━━━━━━━━━━━━━━━━━━╇━━━━━━━━━━━━━━━━━━━━━━━━━━━━╇━━━━━━━┩\n",
       "│ 1  │ session_two │ col   │ 2025-05-15T13:52:40.606454 │ 2025-05-15T13:52:40.606497 │ True  │\n",
       "└────┴─────────────┴───────┴────────────────────────────┴────────────────────────────┴───────┘\n",
       "</pre>\n"
      ],
      "text/plain": [
       "\u001b[3m                                           Sessions                                           \u001b[0m\n",
       "┏━━━━┳━━━━━━━━━━━━━┳━━━━━━━┳━━━━━━━━━━━━━━━━━━━━━━━━━━━━┳━━━━━━━━━━━━━━━━━━━━━━━━━━━━┳━━━━━━━┓\n",
       "┃\u001b[1m \u001b[0m\u001b[1mID\u001b[0m\u001b[1m \u001b[0m┃\u001b[1m \u001b[0m\u001b[1mName       \u001b[0m\u001b[1m \u001b[0m┃\u001b[1m \u001b[0m\u001b[1mscope\u001b[0m\u001b[1m \u001b[0m┃\u001b[1m \u001b[0m\u001b[1mcreated_at                \u001b[0m\u001b[1m \u001b[0m┃\u001b[1m \u001b[0m\u001b[1mlast_used_at              \u001b[0m\u001b[1m \u001b[0m┃\u001b[1m \u001b[0m\u001b[1mready\u001b[0m\u001b[1m \u001b[0m┃\n",
       "┡━━━━╇━━━━━━━━━━━━━╇━━━━━━━╇━━━━━━━━━━━━━━━━━━━━━━━━━━━━╇━━━━━━━━━━━━━━━━━━━━━━━━━━━━╇━━━━━━━┩\n",
       "│ 1  │ session_two │ col   │ 2025-05-15T13:52:40.606454 │ 2025-05-15T13:52:40.606497 │ True  │\n",
       "└────┴─────────────┴───────┴────────────────────────────┴────────────────────────────┴───────┘\n"
      ]
     },
     "metadata": {},
     "output_type": "display_data"
    }
   ],
   "source": [
    "a = client.session.create(name=\"session_two\",scope=\"collaboration\", display=True)"
   ]
  },
  {
   "cell_type": "code",
   "execution_count": 26,
   "metadata": {},
   "outputs": [
    {
     "data": {
      "text/html": [
       "<pre style=\"white-space:pre;overflow-x:auto;line-height:normal;font-family:Menlo,'DejaVu Sans Mono',consolas,'Courier New',monospace\"><span style=\"font-style: italic\">                                           Sessions                                           </span>\n",
       "┏━━━━┳━━━━━━━━━━━━━┳━━━━━━━┳━━━━━━━━━━━━━━━━━━━━━━━━━━━━┳━━━━━━━━━━━━━━━━━━━━━━━━━━━━┳━━━━━━━┓\n",
       "┃<span style=\"font-weight: bold\"> ID </span>┃<span style=\"font-weight: bold\"> Name        </span>┃<span style=\"font-weight: bold\"> scope </span>┃<span style=\"font-weight: bold\"> created_at                 </span>┃<span style=\"font-weight: bold\"> last_used_at               </span>┃<span style=\"font-weight: bold\"> ready </span>┃\n",
       "┡━━━━╇━━━━━━━━━━━━━╇━━━━━━━╇━━━━━━━━━━━━━━━━━━━━━━━━━━━━╇━━━━━━━━━━━━━━━━━━━━━━━━━━━━╇━━━━━━━┩\n",
       "│ 1  │ session_two │ col   │ 2025-05-15T13:52:40.606454 │ 2025-05-15T13:52:40.606497 │ True  │\n",
       "└────┴─────────────┴───────┴────────────────────────────┴────────────────────────────┴───────┘\n",
       "</pre>\n"
      ],
      "text/plain": [
       "\u001b[3m                                           Sessions                                           \u001b[0m\n",
       "┏━━━━┳━━━━━━━━━━━━━┳━━━━━━━┳━━━━━━━━━━━━━━━━━━━━━━━━━━━━┳━━━━━━━━━━━━━━━━━━━━━━━━━━━━┳━━━━━━━┓\n",
       "┃\u001b[1m \u001b[0m\u001b[1mID\u001b[0m\u001b[1m \u001b[0m┃\u001b[1m \u001b[0m\u001b[1mName       \u001b[0m\u001b[1m \u001b[0m┃\u001b[1m \u001b[0m\u001b[1mscope\u001b[0m\u001b[1m \u001b[0m┃\u001b[1m \u001b[0m\u001b[1mcreated_at                \u001b[0m\u001b[1m \u001b[0m┃\u001b[1m \u001b[0m\u001b[1mlast_used_at              \u001b[0m\u001b[1m \u001b[0m┃\u001b[1m \u001b[0m\u001b[1mready\u001b[0m\u001b[1m \u001b[0m┃\n",
       "┡━━━━╇━━━━━━━━━━━━━╇━━━━━━━╇━━━━━━━━━━━━━━━━━━━━━━━━━━━━╇━━━━━━━━━━━━━━━━━━━━━━━━━━━━╇━━━━━━━┩\n",
       "│ 1  │ session_two │ col   │ 2025-05-15T13:52:40.606454 │ 2025-05-15T13:52:40.606497 │ True  │\n",
       "└────┴─────────────┴───────┴────────────────────────────┴────────────────────────────┴───────┘\n"
      ]
     },
     "metadata": {},
     "output_type": "display_data"
    },
    {
     "data": {
      "text/plain": [
       "{'owner': {'id': 2,\n",
       "  'link': '/server/user/2',\n",
       "  'methods': ['DELETE', 'GET', 'PATCH']},\n",
       " 'name': 'session_two',\n",
       " 'tasks': '/server/task?session_id=1',\n",
       " 'created_at': '2025-05-15T13:52:40.606454',\n",
       " 'id': 1,\n",
       " 'last_used_at': '2025-05-15T13:52:40.606497',\n",
       " 'collaboration': {'id': 1,\n",
       "  'link': '/server/collaboration/1',\n",
       "  'methods': ['DELETE', 'GET', 'PATCH']},\n",
       " 'study': None,\n",
       " 'dataframes': '/server/session/1/dataframe',\n",
       " 'scope': 'col',\n",
       " 'ready': True}"
      ]
     },
     "execution_count": 26,
     "metadata": {},
     "output_type": "execute_result"
    }
   ],
   "source": [
    "client.session.get(1,display=True)"
   ]
  },
  {
   "cell_type": "code",
   "execution_count": null,
   "metadata": {},
   "outputs": [],
   "source": [
    "client.collaboration.get(7)"
   ]
  },
  {
   "cell_type": "code",
   "execution_count": null,
   "metadata": {},
   "outputs": [],
   "source": [
    "client.organization.list(collaboration=7)"
   ]
  },
  {
   "cell_type": "code",
   "execution_count": null,
   "metadata": {},
   "outputs": [],
   "source": [
    "client.session.list(display=True);"
   ]
  },
  {
   "cell_type": "code",
   "execution_count": null,
   "metadata": {},
   "outputs": [],
   "source": [
    "client.session.update(9, name=\"new name4\", scope=\"own\", display=True);"
   ]
  },
  {
   "cell_type": "code",
   "execution_count": null,
   "metadata": {},
   "outputs": [],
   "source": [
    "client.session.get(id_=1, display=True);"
   ]
  },
  {
   "cell_type": "code",
   "execution_count": null,
   "metadata": {},
   "outputs": [],
   "source": [
    "help(client.dataframe.create)"
   ]
  },
  {
   "cell_type": "code",
   "execution_count": 27,
   "metadata": {},
   "outputs": [
    {
     "data": {
      "text/html": [
       "<pre style=\"white-space:pre;overflow-x:auto;line-height:normal;font-family:Menlo,'DejaVu Sans Mono',consolas,'Courier New',monospace\">┏━━━━┳━━━━━━━━━━━━┳━━━━━━━━━━━━┳━━━━━━━━━━━━━━━━━━━━━━┳━━━━━━━━━━━━━┳━━━━━━━┓\n",
       "┃<span style=\"font-weight: bold\"> ID </span>┃<span style=\"font-weight: bold\"> Name       </span>┃<span style=\"font-weight: bold\"> Session ID </span>┃<span style=\"font-weight: bold\"> Last Session Task ID </span>┃<span style=\"font-weight: bold\"> No. Columns </span>┃<span style=\"font-weight: bold\"> Ready </span>┃\n",
       "┡━━━━╇━━━━━━━━━━━━╇━━━━━━━━━━━━╇━━━━━━━━━━━━━━━━━━━━━━╇━━━━━━━━━━━━━╇━━━━━━━┩\n",
       "│ 1  │ s1_dframe1 │ 1          │ 1                    │ 0           │ True  │\n",
       "└────┴────────────┴────────────┴──────────────────────┴─────────────┴───────┘\n",
       "</pre>\n"
      ],
      "text/plain": [
       "┏━━━━┳━━━━━━━━━━━━┳━━━━━━━━━━━━┳━━━━━━━━━━━━━━━━━━━━━━┳━━━━━━━━━━━━━┳━━━━━━━┓\n",
       "┃\u001b[1m \u001b[0m\u001b[1mID\u001b[0m\u001b[1m \u001b[0m┃\u001b[1m \u001b[0m\u001b[1mName      \u001b[0m\u001b[1m \u001b[0m┃\u001b[1m \u001b[0m\u001b[1mSession ID\u001b[0m\u001b[1m \u001b[0m┃\u001b[1m \u001b[0m\u001b[1mLast Session Task ID\u001b[0m\u001b[1m \u001b[0m┃\u001b[1m \u001b[0m\u001b[1mNo. Columns\u001b[0m\u001b[1m \u001b[0m┃\u001b[1m \u001b[0m\u001b[1mReady\u001b[0m\u001b[1m \u001b[0m┃\n",
       "┡━━━━╇━━━━━━━━━━━━╇━━━━━━━━━━━━╇━━━━━━━━━━━━━━━━━━━━━━╇━━━━━━━━━━━━━╇━━━━━━━┩\n",
       "│ 1  │ s1_dframe1 │ 1          │ 1                    │ 0           │ True  │\n",
       "└────┴────────────┴────────────┴──────────────────────┴─────────────┴───────┘\n"
      ]
     },
     "metadata": {},
     "output_type": "display_data"
    },
    {
     "data": {
      "text/plain": [
       "{'name': 's1_dframe1',\n",
       " 'session': {'id': 1,\n",
       "  'link': '/server/session/1',\n",
       "  'methods': ['DELETE', 'GET', 'PATCH']},\n",
       " 'tasks': '/server/task?dataframe_id=1',\n",
       " 'columns': [],\n",
       " 'last_session_task': {'name': 'Session initialization: session_two',\n",
       "  'children': '/server/task?parent_id=1',\n",
       "  'init_org': {'id': 2,\n",
       "   'link': '/server/organization/2',\n",
       "   'methods': ['DELETE', 'GET', 'PATCH']},\n",
       "  'databases': [{'label': 'default',\n",
       "    'type': 'source',\n",
       "    'dataframe_id': None,\n",
       "    'dataframe_name': None}],\n",
       "  'finished_at': None,\n",
       "  'study': None,\n",
       "  'runs': '/server/run?task_id=1',\n",
       "  'algorithm_store': None,\n",
       "  'image': 'harbor2.vantage6.ai/algorithms/session-basics',\n",
       "  'created_at': '2025-05-15T14:03:06.066551',\n",
       "  'init_user': {'id': 2,\n",
       "   'link': '/server/user/2',\n",
       "   'methods': ['DELETE', 'GET', 'PATCH']},\n",
       "  'job_id': 1,\n",
       "  'status': 'awaiting',\n",
       "  'description': 'Data extraction step for session session_two (1).This session is in the collab 1 collaboration. Data extraction is done on the default database, and the dataframe name will be s1_dframe1.',\n",
       "  'id': 1,\n",
       "  'parent': None,\n",
       "  'depends_on': [],\n",
       "  'session': {'id': 1,\n",
       "   'link': '/server/session/1',\n",
       "   'methods': ['DELETE', 'GET', 'PATCH']},\n",
       "  'collaboration': {'id': 1,\n",
       "   'link': '/server/collaboration/1',\n",
       "   'methods': ['DELETE', 'GET', 'PATCH']},\n",
       "  'dataframe': {'name': 's1_dframe1', 'id': 1, 'db_label': 'default'},\n",
       "  'method': 'read_csv',\n",
       "  'required_by': [],\n",
       "  'results': '/server/result?task_id=1'},\n",
       " 'db_label': 'default',\n",
       " 'id': 1,\n",
       " 'ready': True}"
      ]
     },
     "execution_count": 27,
     "metadata": {},
     "output_type": "execute_result"
    }
   ],
   "source": [
    "# session_id=1\n",
    "\n",
    "client.dataframe.create(label=\"default\",image=\"harbor2.vantage6.ai/algorithms/session-basics\",method=\"read_csv\", name=\"s1_dframe1\", session=1,display=True,input_={'kwargs': {}})\n",
    "\n"
   ]
  },
  {
   "cell_type": "code",
   "execution_count": 28,
   "metadata": {},
   "outputs": [
    {
     "data": {
      "text/html": [
       "<pre style=\"white-space:pre;overflow-x:auto;line-height:normal;font-family:Menlo,'DejaVu Sans Mono',consolas,'Courier New',monospace\">┏━━━━┳━━━━━━━━━━━━┳━━━━━━━━━━━━┳━━━━━━━━━━━━━━━━━━━━━━┳━━━━━━━━━━━━━┳━━━━━━━┓\n",
       "┃<span style=\"font-weight: bold\"> ID </span>┃<span style=\"font-weight: bold\"> Name       </span>┃<span style=\"font-weight: bold\"> Session ID </span>┃<span style=\"font-weight: bold\"> Last Session Task ID </span>┃<span style=\"font-weight: bold\"> No. Columns </span>┃<span style=\"font-weight: bold\"> Ready </span>┃\n",
       "┡━━━━╇━━━━━━━━━━━━╇━━━━━━━━━━━━╇━━━━━━━━━━━━━━━━━━━━━━╇━━━━━━━━━━━━━╇━━━━━━━┩\n",
       "│ 1  │ s1_dframe1 │ 1          │ 1                    │ 21          │ True  │\n",
       "└────┴────────────┴────────────┴──────────────────────┴─────────────┴───────┘\n",
       "</pre>\n"
      ],
      "text/plain": [
       "┏━━━━┳━━━━━━━━━━━━┳━━━━━━━━━━━━┳━━━━━━━━━━━━━━━━━━━━━━┳━━━━━━━━━━━━━┳━━━━━━━┓\n",
       "┃\u001b[1m \u001b[0m\u001b[1mID\u001b[0m\u001b[1m \u001b[0m┃\u001b[1m \u001b[0m\u001b[1mName      \u001b[0m\u001b[1m \u001b[0m┃\u001b[1m \u001b[0m\u001b[1mSession ID\u001b[0m\u001b[1m \u001b[0m┃\u001b[1m \u001b[0m\u001b[1mLast Session Task ID\u001b[0m\u001b[1m \u001b[0m┃\u001b[1m \u001b[0m\u001b[1mNo. Columns\u001b[0m\u001b[1m \u001b[0m┃\u001b[1m \u001b[0m\u001b[1mReady\u001b[0m\u001b[1m \u001b[0m┃\n",
       "┡━━━━╇━━━━━━━━━━━━╇━━━━━━━━━━━━╇━━━━━━━━━━━━━━━━━━━━━━╇━━━━━━━━━━━━━╇━━━━━━━┩\n",
       "│ 1  │ s1_dframe1 │ 1          │ 1                    │ 21          │ True  │\n",
       "└────┴────────────┴────────────┴──────────────────────┴─────────────┴───────┘\n"
      ]
     },
     "metadata": {},
     "output_type": "display_data"
    }
   ],
   "source": [
    "#list session's dataframes (session= 2)\n",
    "client.session.dataframes(1, display=True);"
   ]
  },
  {
   "cell_type": "code",
   "execution_count": null,
   "metadata": {},
   "outputs": [],
   "source": [
    "help(client.dataframe.get)"
   ]
  },
  {
   "cell_type": "code",
   "execution_count": 29,
   "metadata": {},
   "outputs": [
    {
     "data": {
      "text/html": [
       "<pre style=\"white-space:pre;overflow-x:auto;line-height:normal;font-family:Menlo,'DejaVu Sans Mono',consolas,'Courier New',monospace\">┏━━━━┳━━━━━━━━━━━━┳━━━━━━━━━━━━┳━━━━━━━━━━━━━━━━━━━━━━┳━━━━━━━━━━━━━┳━━━━━━━┓\n",
       "┃<span style=\"font-weight: bold\"> ID </span>┃<span style=\"font-weight: bold\"> Name       </span>┃<span style=\"font-weight: bold\"> Session ID </span>┃<span style=\"font-weight: bold\"> Last Session Task ID </span>┃<span style=\"font-weight: bold\"> No. Columns </span>┃<span style=\"font-weight: bold\"> Ready </span>┃\n",
       "┡━━━━╇━━━━━━━━━━━━╇━━━━━━━━━━━━╇━━━━━━━━━━━━━━━━━━━━━━╇━━━━━━━━━━━━━╇━━━━━━━┩\n",
       "│ 1  │ s1_dframe1 │ 1          │ 1                    │ 21          │ True  │\n",
       "└────┴────────────┴────────────┴──────────────────────┴─────────────┴───────┘\n",
       "</pre>\n"
      ],
      "text/plain": [
       "┏━━━━┳━━━━━━━━━━━━┳━━━━━━━━━━━━┳━━━━━━━━━━━━━━━━━━━━━━┳━━━━━━━━━━━━━┳━━━━━━━┓\n",
       "┃\u001b[1m \u001b[0m\u001b[1mID\u001b[0m\u001b[1m \u001b[0m┃\u001b[1m \u001b[0m\u001b[1mName      \u001b[0m\u001b[1m \u001b[0m┃\u001b[1m \u001b[0m\u001b[1mSession ID\u001b[0m\u001b[1m \u001b[0m┃\u001b[1m \u001b[0m\u001b[1mLast Session Task ID\u001b[0m\u001b[1m \u001b[0m┃\u001b[1m \u001b[0m\u001b[1mNo. Columns\u001b[0m\u001b[1m \u001b[0m┃\u001b[1m \u001b[0m\u001b[1mReady\u001b[0m\u001b[1m \u001b[0m┃\n",
       "┡━━━━╇━━━━━━━━━━━━╇━━━━━━━━━━━━╇━━━━━━━━━━━━━━━━━━━━━━╇━━━━━━━━━━━━━╇━━━━━━━┩\n",
       "│ 1  │ s1_dframe1 │ 1          │ 1                    │ 21          │ True  │\n",
       "└────┴────────────┴────────────┴──────────────────────┴─────────────┴───────┘\n"
      ]
     },
     "metadata": {},
     "output_type": "display_data"
    },
    {
     "data": {
      "text/html": [
       "<pre style=\"white-space:pre;overflow-x:auto;line-height:normal;font-family:Menlo,'DejaVu Sans Mono',consolas,'Courier New',monospace\"><span style=\"font-style: italic\">          Dataframe Schema           </span>\n",
       "┏━━━━━━━━━━━━━┳━━━━━━━━━━━┳━━━━━━━━━┓\n",
       "┃<span style=\"font-weight: bold\"> Column Name </span>┃<span style=\"font-weight: bold\"> Data Type </span>┃<span style=\"font-weight: bold\">   Nodes </span>┃\n",
       "┡━━━━━━━━━━━━━╇━━━━━━━━━━━╇━━━━━━━━━┩\n",
       "│ Age         │ int64     │ 5, 7, 6 │\n",
       "│ Country     │ string    │ 5, 7, 6 │\n",
       "│ Height      │ int64     │ 5, 7, 6 │\n",
       "│ Medal       │ string    │ 5, 7, 6 │\n",
       "│ Sex         │ string    │ 5, 7, 6 │\n",
       "│ Sport       │ string    │ 5, 7, 6 │\n",
       "│ Weight      │ int64     │ 5, 7, 6 │\n",
       "└─────────────┴───────────┴─────────┘\n",
       "</pre>\n"
      ],
      "text/plain": [
       "\u001b[3m          Dataframe Schema           \u001b[0m\n",
       "┏━━━━━━━━━━━━━┳━━━━━━━━━━━┳━━━━━━━━━┓\n",
       "┃\u001b[1m \u001b[0m\u001b[1mColumn Name\u001b[0m\u001b[1m \u001b[0m┃\u001b[1m \u001b[0m\u001b[1mData Type\u001b[0m\u001b[1m \u001b[0m┃\u001b[1m \u001b[0m\u001b[1m  Nodes\u001b[0m\u001b[1m \u001b[0m┃\n",
       "┡━━━━━━━━━━━━━╇━━━━━━━━━━━╇━━━━━━━━━┩\n",
       "│ Age         │ int64     │ 5, 7, 6 │\n",
       "│ Country     │ string    │ 5, 7, 6 │\n",
       "│ Height      │ int64     │ 5, 7, 6 │\n",
       "│ Medal       │ string    │ 5, 7, 6 │\n",
       "│ Sex         │ string    │ 5, 7, 6 │\n",
       "│ Sport       │ string    │ 5, 7, 6 │\n",
       "│ Weight      │ int64     │ 5, 7, 6 │\n",
       "└─────────────┴───────────┴─────────┘\n"
      ]
     },
     "metadata": {},
     "output_type": "display_data"
    }
   ],
   "source": [
    "client.dataframe.get(1, display=True);"
   ]
  },
  {
   "cell_type": "code",
   "execution_count": null,
   "metadata": {},
   "outputs": [],
   "source": [
    "help(client.dataframe.preprocess)"
   ]
  },
  {
   "cell_type": "code",
   "execution_count": 30,
   "metadata": {},
   "outputs": [
    {
     "data": {
      "text/plain": [
       "{'name': 's1_dframe1',\n",
       " 'session': {'id': 1,\n",
       "  'link': '/server/session/1',\n",
       "  'methods': ['DELETE', 'GET', 'PATCH']},\n",
       " 'tasks': '/server/task?dataframe_id=1',\n",
       " 'columns': [{'name': 'Sex', 'node_id': 5, 'dtype': 'string'},\n",
       "  {'name': 'Age', 'node_id': 5, 'dtype': 'int64'},\n",
       "  {'name': 'Height', 'node_id': 5, 'dtype': 'int64'},\n",
       "  {'name': 'Weight', 'node_id': 5, 'dtype': 'int64'},\n",
       "  {'name': 'Country', 'node_id': 5, 'dtype': 'string'},\n",
       "  {'name': 'Sport', 'node_id': 5, 'dtype': 'string'},\n",
       "  {'name': 'Medal', 'node_id': 5, 'dtype': 'string'},\n",
       "  {'name': 'Sex', 'node_id': 7, 'dtype': 'string'},\n",
       "  {'name': 'Age', 'node_id': 7, 'dtype': 'int64'},\n",
       "  {'name': 'Height', 'node_id': 7, 'dtype': 'int64'},\n",
       "  {'name': 'Weight', 'node_id': 7, 'dtype': 'int64'},\n",
       "  {'name': 'Country', 'node_id': 7, 'dtype': 'string'},\n",
       "  {'name': 'Sport', 'node_id': 7, 'dtype': 'string'},\n",
       "  {'name': 'Medal', 'node_id': 7, 'dtype': 'string'},\n",
       "  {'name': 'Sex', 'node_id': 6, 'dtype': 'string'},\n",
       "  {'name': 'Age', 'node_id': 6, 'dtype': 'int64'},\n",
       "  {'name': 'Height', 'node_id': 6, 'dtype': 'int64'},\n",
       "  {'name': 'Weight', 'node_id': 6, 'dtype': 'int64'},\n",
       "  {'name': 'Country', 'node_id': 6, 'dtype': 'string'},\n",
       "  {'name': 'Sport', 'node_id': 6, 'dtype': 'string'},\n",
       "  {'name': 'Medal', 'node_id': 6, 'dtype': 'string'}],\n",
       " 'last_session_task': {'name': 'Session initialization: session_two',\n",
       "  'children': '/server/task?parent_id=2',\n",
       "  'init_org': {'id': 2,\n",
       "   'link': '/server/organization/2',\n",
       "   'methods': ['DELETE', 'GET', 'PATCH']},\n",
       "  'databases': [{'label': None,\n",
       "    'type': 'dataframe',\n",
       "    'dataframe_id': 1,\n",
       "    'dataframe_name': 's1_dframe1'}],\n",
       "  'finished_at': None,\n",
       "  'study': None,\n",
       "  'runs': '/server/run?task_id=2',\n",
       "  'algorithm_store': None,\n",
       "  'image': 'ghcr.io/hcadavid/v6-sessions-k8s-diagnostics:latest',\n",
       "  'created_at': '2025-05-15T14:03:49.175246',\n",
       "  'init_user': {'id': 2,\n",
       "   'link': '/server/user/2',\n",
       "   'methods': ['DELETE', 'GET', 'PATCH']},\n",
       "  'job_id': 2,\n",
       "  'status': 'awaiting',\n",
       "  'description': 'Preprocessing step for session session_two (1).This session is in the collab 1 collaboration. This preprocessing step will modify dataframe 1 ',\n",
       "  'id': 2,\n",
       "  'parent': None,\n",
       "  'depends_on': [1],\n",
       "  'session': {'id': 1,\n",
       "   'link': '/server/session/1',\n",
       "   'methods': ['DELETE', 'GET', 'PATCH']},\n",
       "  'collaboration': {'id': 1,\n",
       "   'link': '/server/collaboration/1',\n",
       "   'methods': ['DELETE', 'GET', 'PATCH']},\n",
       "  'dataframe': {'name': 's1_dframe1', 'id': 1, 'db_label': 'default'},\n",
       "  'method': 'pre_process2',\n",
       "  'required_by': [],\n",
       "  'results': '/server/result?task_id=2'},\n",
       " 'db_label': 'default',\n",
       " 'id': 1,\n",
       " 'ready': True}"
      ]
     },
     "execution_count": 30,
     "metadata": {},
     "output_type": "execute_result"
    }
   ],
   "source": [
    "#Why session ID and not dataframe id?\n",
    "client.dataframe.preprocess(1, image=\"ghcr.io/hcadavid/v6-sessions-k8s-diagnostics:latest\", method=\"pre_process2\",input_={    \n",
    "    \"args\": [\"Age\", \"PlusAge\"],\n",
    "    \"kwargs\": {}\n",
    "})\n"
   ]
  },
  {
   "cell_type": "code",
   "execution_count": 31,
   "metadata": {},
   "outputs": [
    {
     "data": {
      "text/html": [
       "<pre style=\"white-space:pre;overflow-x:auto;line-height:normal;font-family:Menlo,'DejaVu Sans Mono',consolas,'Courier New',monospace\">┏━━━━┳━━━━━━━━━━━━┳━━━━━━━━━━━━┳━━━━━━━━━━━━━━━━━━━━━━┳━━━━━━━━━━━━━┳━━━━━━━┓\n",
       "┃<span style=\"font-weight: bold\"> ID </span>┃<span style=\"font-weight: bold\"> Name       </span>┃<span style=\"font-weight: bold\"> Session ID </span>┃<span style=\"font-weight: bold\"> Last Session Task ID </span>┃<span style=\"font-weight: bold\"> No. Columns </span>┃<span style=\"font-weight: bold\"> Ready </span>┃\n",
       "┡━━━━╇━━━━━━━━━━━━╇━━━━━━━━━━━━╇━━━━━━━━━━━━━━━━━━━━━━╇━━━━━━━━━━━━━╇━━━━━━━┩\n",
       "│ 1  │ s1_dframe1 │ 1          │ 2                    │ 24          │ True  │\n",
       "└────┴────────────┴────────────┴──────────────────────┴─────────────┴───────┘\n",
       "</pre>\n"
      ],
      "text/plain": [
       "┏━━━━┳━━━━━━━━━━━━┳━━━━━━━━━━━━┳━━━━━━━━━━━━━━━━━━━━━━┳━━━━━━━━━━━━━┳━━━━━━━┓\n",
       "┃\u001b[1m \u001b[0m\u001b[1mID\u001b[0m\u001b[1m \u001b[0m┃\u001b[1m \u001b[0m\u001b[1mName      \u001b[0m\u001b[1m \u001b[0m┃\u001b[1m \u001b[0m\u001b[1mSession ID\u001b[0m\u001b[1m \u001b[0m┃\u001b[1m \u001b[0m\u001b[1mLast Session Task ID\u001b[0m\u001b[1m \u001b[0m┃\u001b[1m \u001b[0m\u001b[1mNo. Columns\u001b[0m\u001b[1m \u001b[0m┃\u001b[1m \u001b[0m\u001b[1mReady\u001b[0m\u001b[1m \u001b[0m┃\n",
       "┡━━━━╇━━━━━━━━━━━━╇━━━━━━━━━━━━╇━━━━━━━━━━━━━━━━━━━━━━╇━━━━━━━━━━━━━╇━━━━━━━┩\n",
       "│ 1  │ s1_dframe1 │ 1          │ 2                    │ 24          │ True  │\n",
       "└────┴────────────┴────────────┴──────────────────────┴─────────────┴───────┘\n"
      ]
     },
     "metadata": {},
     "output_type": "display_data"
    },
    {
     "data": {
      "text/html": [
       "<pre style=\"white-space:pre;overflow-x:auto;line-height:normal;font-family:Menlo,'DejaVu Sans Mono',consolas,'Courier New',monospace\"><span style=\"font-style: italic\">          Dataframe Schema           </span>\n",
       "┏━━━━━━━━━━━━━┳━━━━━━━━━━━┳━━━━━━━━━┓\n",
       "┃<span style=\"font-weight: bold\"> Column Name </span>┃<span style=\"font-weight: bold\"> Data Type </span>┃<span style=\"font-weight: bold\">   Nodes </span>┃\n",
       "┡━━━━━━━━━━━━━╇━━━━━━━━━━━╇━━━━━━━━━┩\n",
       "│ Age         │ int64     │ 7, 6, 5 │\n",
       "│ Country     │ string    │ 7, 6, 5 │\n",
       "│ Height      │ int64     │ 7, 6, 5 │\n",
       "│ Medal       │ string    │ 7, 6, 5 │\n",
       "│ PlusAge     │ int64     │ 7, 6, 5 │\n",
       "│ Sex         │ string    │ 7, 6, 5 │\n",
       "│ Sport       │ string    │ 7, 6, 5 │\n",
       "│ Weight      │ int64     │ 7, 6, 5 │\n",
       "└─────────────┴───────────┴─────────┘\n",
       "</pre>\n"
      ],
      "text/plain": [
       "\u001b[3m          Dataframe Schema           \u001b[0m\n",
       "┏━━━━━━━━━━━━━┳━━━━━━━━━━━┳━━━━━━━━━┓\n",
       "┃\u001b[1m \u001b[0m\u001b[1mColumn Name\u001b[0m\u001b[1m \u001b[0m┃\u001b[1m \u001b[0m\u001b[1mData Type\u001b[0m\u001b[1m \u001b[0m┃\u001b[1m \u001b[0m\u001b[1m  Nodes\u001b[0m\u001b[1m \u001b[0m┃\n",
       "┡━━━━━━━━━━━━━╇━━━━━━━━━━━╇━━━━━━━━━┩\n",
       "│ Age         │ int64     │ 7, 6, 5 │\n",
       "│ Country     │ string    │ 7, 6, 5 │\n",
       "│ Height      │ int64     │ 7, 6, 5 │\n",
       "│ Medal       │ string    │ 7, 6, 5 │\n",
       "│ PlusAge     │ int64     │ 7, 6, 5 │\n",
       "│ Sex         │ string    │ 7, 6, 5 │\n",
       "│ Sport       │ string    │ 7, 6, 5 │\n",
       "│ Weight      │ int64     │ 7, 6, 5 │\n",
       "└─────────────┴───────────┴─────────┘\n"
      ]
     },
     "metadata": {},
     "output_type": "display_data"
    }
   ],
   "source": [
    "#Check updated dataframe\n",
    "client.dataframe.get(1, display=True);"
   ]
  },
  {
   "cell_type": "code",
   "execution_count": null,
   "metadata": {},
   "outputs": [],
   "source": [
    "sessions = client.session.list(display=True)"
   ]
  },
  {
   "cell_type": "code",
   "execution_count": null,
   "metadata": {},
   "outputs": [],
   "source": [
    "client.session.tree()"
   ]
  },
  {
   "cell_type": "code",
   "execution_count": null,
   "metadata": {},
   "outputs": [],
   "source": [
    "[client.session.delete(id_, delete_dependents=True) for id_ in [1,2]]"
   ]
  },
  {
   "cell_type": "code",
   "execution_count": null,
   "metadata": {},
   "outputs": [],
   "source": [
    "client.session.task_tree(9)"
   ]
  },
  {
   "cell_type": "code",
   "execution_count": null,
   "metadata": {},
   "outputs": [],
   "source": [
    "a = client.dataframe.get(\"eloquent_knuth\", 1)"
   ]
  },
  {
   "cell_type": "code",
   "execution_count": null,
   "metadata": {},
   "outputs": [],
   "source": [
    "help(client.task.create)"
   ]
  },
  {
   "cell_type": "code",
   "execution_count": 34,
   "metadata": {},
   "outputs": [
    {
     "name": "stdout",
     "output_type": "stream",
     "text": [
      "Done!                  s)"
     ]
    },
    {
     "data": {
      "text/plain": [
       "{'data': [{'result': '{\"proxy\": \"vantage6-node-node-service.vantage6-dev.svc.cluster.local:7654\", \"external_dns_reachable\": true, \"http_connection_test_passed\": true, \"proxy_reachable\": true, \"ipv4s_addresses\": [[\"lo\", \"127.0.0.1\"], [\"eth0\", \"10.1.71.55\"]], \"ipv6s_addresses\": [[\"lo\", \"::1\"], [\"eth0\", \"fe80::a887:e9ff:febf:4c1a%eth0\"]]}',\n",
       "   'run': {'id': 9, 'link': '/server/run/9', 'methods': ['GET', 'PATCH']},\n",
       "   'action': 'federated compute',\n",
       "   'cleanup_at': None,\n",
       "   'task': {'id': 3, 'link': '/server/task/3', 'methods': ['GET', 'DELETE']},\n",
       "   'id': 9},\n",
       "  {'result': '{\"proxy\": \"vantage6-node-node-service.vantage6-dev.svc.cluster.local:7654\", \"external_dns_reachable\": true, \"http_connection_test_passed\": true, \"proxy_reachable\": true, \"ipv4s_addresses\": [[\"lo\", \"127.0.0.1\"], [\"eth0\", \"10.1.71.40\"]], \"ipv6s_addresses\": [[\"lo\", \"::1\"], [\"eth0\", \"fe80::1c31:faff:feaf:dc3d%eth0\"]]}',\n",
       "   'run': {'id': 8, 'link': '/server/run/8', 'methods': ['GET', 'PATCH']},\n",
       "   'action': 'federated compute',\n",
       "   'cleanup_at': None,\n",
       "   'task': {'id': 3, 'link': '/server/task/3', 'methods': ['GET', 'DELETE']},\n",
       "   'id': 8},\n",
       "  {'result': '{\"proxy\": \"vantage6-node-node-service.vantage6-dev.svc.cluster.local:7654\", \"external_dns_reachable\": true, \"http_connection_test_passed\": true, \"proxy_reachable\": true, \"ipv4s_addresses\": [[\"lo\", \"127.0.0.1\"], [\"eth0\", \"10.1.71.1\"]], \"ipv6s_addresses\": [[\"lo\", \"::1\"], [\"eth0\", \"fe80::d899:d3ff:fe90:97f0%eth0\"]]}',\n",
       "   'run': {'id': 7, 'link': '/server/run/7', 'methods': ['GET', 'PATCH']},\n",
       "   'action': 'federated compute',\n",
       "   'cleanup_at': None,\n",
       "   'task': {'id': 3, 'link': '/server/task/3', 'methods': ['GET', 'DELETE']},\n",
       "   'id': 7}],\n",
       " 'links': {'first': '/server/result?task_id=3&page=1',\n",
       "  'self': '/server/result?task_id=3&page=1',\n",
       "  'last': '/server/result?task_id=3&page=1'}}"
      ]
     },
     "execution_count": 34,
     "metadata": {},
     "output_type": "execute_result"
    }
   ],
   "source": [
    "# Network diagnostics\n",
    "task = client.task.create(name=\"network diagnostics\", description=\"anwdiag\", collaboration=1,\n",
    "                   organizations=[2,3,4],\n",
    "                   databases=[{\"label\": \"s1_dframe1\", \"type\": \"dataframe\", \"dataframe_id\":\"1\"}], \n",
    "                   image=\"ghcr.io/hcadavid/v6-sessions-k8s-diagnostics:latest\", method=\"network_status\", \n",
    "                   action=\"federated compute\",\n",
    "                   input_={\n",
    "                    \"args\": [1],\n",
    "                    \"kwargs\": {}\n",
    "                   }\n",
    ", session=1)\n",
    "\n",
    "client.wait_for_results(task['job_id'])"
   ]
  },
  {
   "cell_type": "code",
   "execution_count": null,
   "metadata": {},
   "outputs": [],
   "source": [
    "# Network diagnostics\n",
    "task = client.task.create(name=\"network diagnostics\", description=\"anwdiag\", collaboration=1,\n",
    "                   organizations=[2,3,4],\n",
    "                   databases=[{\"label\": \"s1_dframe1\", \"type\": \"dataframe\", \"dataframe_id\":\"1\"}], \n",
    "                   image=\"ghcr.io/hcadavid/v6-sessions-k8s-diagnostics:latest\", method=\"network_status\", \n",
    "                   action=\"federated compute\",\n",
    "                   input_={\n",
    "                    \"args\": [1200],\n",
    "                    \"kwargs\": {}\n",
    "                   }\n",
    ", session=1)\n",
    "\n",
    "client.wait_for_results(task['job_id'])"
   ]
  },
  {
   "cell_type": "code",
   "execution_count": 36,
   "metadata": {},
   "outputs": [
    {
     "name": "stdout",
     "output_type": "stream",
     "text": [
      "Done!                  s)"
     ]
    },
    {
     "data": {
      "text/plain": [
       "{'data': [{'result': '{\"sum\": 66935, \"count\": 2424}',\n",
       "   'run': {'id': 13, 'link': '/server/run/13', 'methods': ['GET', 'PATCH']},\n",
       "   'action': 'federated compute',\n",
       "   'cleanup_at': None,\n",
       "   'task': {'id': 5, 'link': '/server/task/5', 'methods': ['GET', 'DELETE']},\n",
       "   'id': 13},\n",
       "  {'result': '{\"sum\": 66935, \"count\": 2424}',\n",
       "   'run': {'id': 12, 'link': '/server/run/12', 'methods': ['GET', 'PATCH']},\n",
       "   'action': 'federated compute',\n",
       "   'cleanup_at': None,\n",
       "   'task': {'id': 5, 'link': '/server/task/5', 'methods': ['GET', 'DELETE']},\n",
       "   'id': 12},\n",
       "  {'result': '{\"sum\": 66935, \"count\": 2424}',\n",
       "   'run': {'id': 11, 'link': '/server/run/11', 'methods': ['GET', 'PATCH']},\n",
       "   'action': 'federated compute',\n",
       "   'cleanup_at': None,\n",
       "   'task': {'id': 5, 'link': '/server/task/5', 'methods': ['GET', 'DELETE']},\n",
       "   'id': 11}],\n",
       " 'links': {'first': '/server/result?task_id=5&page=1',\n",
       "  'self': '/server/result?task_id=5&page=1',\n",
       "  'last': '/server/result?task_id=5&page=1'}}"
      ]
     },
     "execution_count": 36,
     "metadata": {},
     "output_type": "execute_result"
    }
   ],
   "source": [
    "\n",
    "# Creating a task that uses pre-processed data\n",
    "task = client.task.create(name=\"fedavg\", description=\"aaabbccc\", collaboration=1,\n",
    "                   organizations=[2,3,4],\n",
    "                   databases=[{\"label\": \"s2_dframe1\", \"type\": \"dataframe\", \"dataframe_id\":\"1\"}], \n",
    "                   image=\"ghcr.io/hcadavid/v6-sessions-k8s-diagnostics:latest\", method=\"federated_avg\", \n",
    "                   action=\"federated compute\",\n",
    "                   input_={\n",
    "                    \"args\": [\"Age\"],\n",
    "                    \"kwargs\": {}\n",
    "                   }\n",
    ", session=1)\n",
    "\n",
    "client.wait_for_results(task['job_id'])"
   ]
  },
  {
   "cell_type": "markdown",
   "metadata": {},
   "source": [
    "### Central function"
   ]
  },
  {
   "cell_type": "code",
   "execution_count": 35,
   "metadata": {},
   "outputs": [
    {
     "name": "stdout",
     "output_type": "stream",
     "text": [
      "Done!                  s)"
     ]
    },
    {
     "data": {
      "text/plain": [
       "{'data': [{'result': '',\n",
       "   'run': {'id': 10, 'link': '/server/run/10', 'methods': ['GET', 'PATCH']},\n",
       "   'action': 'central compute',\n",
       "   'cleanup_at': None,\n",
       "   'task': {'id': 4, 'link': '/server/task/4', 'methods': ['GET', 'DELETE']},\n",
       "   'id': 10}],\n",
       " 'links': {'first': '/server/result?task_id=4&page=1',\n",
       "  'self': '/server/result?task_id=4&page=1',\n",
       "  'last': '/server/result?task_id=4&page=1'}}"
      ]
     },
     "execution_count": 35,
     "metadata": {},
     "output_type": "execute_result"
    }
   ],
   "source": [
    "# Creating a task that uses pre-processed data\n",
    "task = client.task.create(name=\"fedavg\", description=\"aaabbccc\", collaboration=1,\n",
    "                   organizations=[2],\n",
    "                   databases=[{\"label\": \"s2_dframe1\", \"type\": \"dataframe\", \"dataframe_id\":\"1\"}], \n",
    "                   image=\"ghcr.io/hcadavid/v6-sessions-k8s-diagnostics:latest\", method=\"central_average\", \n",
    "                   action=\"central compute\",\n",
    "                   input_={\n",
    "                    \"args\": [\"Age\"],\n",
    "                    \"kwargs\": {}\n",
    "                   }\n",
    ", session=1)\n",
    "\n",
    "client.wait_for_results(task['job_id'])"
   ]
  },
  {
   "cell_type": "code",
   "execution_count": null,
   "metadata": {},
   "outputs": [],
   "source": [
    "from rich.table import Table\n",
    "from rich.console import Console\n",
    "\n",
    "table = Table(title=\"DF\")"
   ]
  }
 ],
 "metadata": {
  "kernelspec": {
   "display_name": "vantage6-5.0.0a15",
   "language": "python",
   "name": "python3"
  },
  "language_info": {
   "codemirror_mode": {
    "name": "ipython",
    "version": 3
   },
   "file_extension": ".py",
   "mimetype": "text/x-python",
   "name": "python",
   "nbconvert_exporter": "python",
   "pygments_lexer": "ipython3",
   "version": "3.10.16"
  }
 },
 "nbformat": 4,
 "nbformat_minor": 2
}
