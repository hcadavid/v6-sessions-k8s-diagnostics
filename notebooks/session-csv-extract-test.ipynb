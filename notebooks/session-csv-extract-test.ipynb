{
 "cells": [
  {
   "cell_type": "code",
   "execution_count": 1,
   "metadata": {},
   "outputs": [],
   "source": [
    "# Load the autoreload extension\n",
    "%load_ext autoreload\n",
    "\n",
    "# Set autoreload mode to reload all modules before executing code\n",
    "%autoreload 2\n",
    "\n",
    "from vantage6.client import Client"
   ]
  },
  {
   "cell_type": "code",
   "execution_count": 2,
   "metadata": {},
   "outputs": [
    {
     "name": "stdout",
     "output_type": "stream",
     "text": [
      " Welcome to\n",
      "                  _                     __  \n",
      "                 | |                   / /  \n",
      "__   ____ _ _ __ | |_ __ _  __ _  ___ / /_  \n",
      "\\ \\ / / _` | '_ \\| __/ _` |/ _` |/ _ \\ '_ \\ \n",
      " \\ V / (_| | | | | || (_| | (_| |  __/ (_) |\n",
      "  \\_/ \\__,_|_| |_|\\__\\__,_|\\__, |\\___|\\___/ \n",
      "                            __/ |           \n",
      "                           |___/            \n",
      "\n",
      " --> Join us on Discord! https://discord.gg/rwRvwyK\n",
      " --> Docs: https://docs.vantage6.ai\n",
      " --> Blog: https://vantage6.ai\n",
      "------------------------------------------------------------\n",
      "Cite us!\n",
      "If you publish your findings obtained using vantage6, \n",
      "please cite the proper sources as mentioned in:\n",
      "https://vantage6.ai/vantage6/references\n",
      "------------------------------------------------------------\n"
     ]
    }
   ],
   "source": [
    "client = Client(\"http://localhost\", 7601, \"/server\", log_level=\"INFO\")"
   ]
  },
  {
   "cell_type": "code",
   "execution_count": null,
   "metadata": {},
   "outputs": [],
   "source": [
    "help(client.setup_collaboration)"
   ]
  },
  {
   "cell_type": "code",
   "execution_count": 3,
   "metadata": {},
   "outputs": [
    {
     "name": "stdout",
     "output_type": "stream",
     "text": [
      "Successfully authenticated\n",
      " --> Succesfully authenticated\n",
      " --> Name: user 1 (id=2)\n",
      " --> Organization: org_1 (id=2)\n",
      "Setting up collaboration 1\n"
     ]
    }
   ],
   "source": [
    "client.authenticate(\"user_1\", \"Password123!\")\n",
    "client.setup_encryption(None)\n",
    "client.setup_collaboration(1)"
   ]
  },
  {
   "cell_type": "markdown",
   "metadata": {},
   "source": [
    "# Basic Session Management"
   ]
  },
  {
   "cell_type": "code",
   "execution_count": null,
   "metadata": {},
   "outputs": [],
   "source": [
    "a = client.session.create(name=\"session_two\",scope=\"collaboration\", display=True)"
   ]
  },
  {
   "cell_type": "code",
   "execution_count": 4,
   "metadata": {},
   "outputs": [
    {
     "data": {
      "text/html": [
       "<pre style=\"white-space:pre;overflow-x:auto;line-height:normal;font-family:Menlo,'DejaVu Sans Mono',consolas,'Courier New',monospace\"><span style=\"font-style: italic\">                                           Sessions                                           </span>\n",
       "┏━━━━┳━━━━━━━━━━━━━┳━━━━━━━┳━━━━━━━━━━━━━━━━━━━━━━━━━━━━┳━━━━━━━━━━━━━━━━━━━━━━━━━━━━┳━━━━━━━┓\n",
       "┃<span style=\"font-weight: bold\"> ID </span>┃<span style=\"font-weight: bold\"> Name        </span>┃<span style=\"font-weight: bold\"> scope </span>┃<span style=\"font-weight: bold\"> created_at                 </span>┃<span style=\"font-weight: bold\"> last_used_at               </span>┃<span style=\"font-weight: bold\"> ready </span>┃\n",
       "┡━━━━╇━━━━━━━━━━━━━╇━━━━━━━╇━━━━━━━━━━━━━━━━━━━━━━━━━━━━╇━━━━━━━━━━━━━━━━━━━━━━━━━━━━╇━━━━━━━┩\n",
       "│ 2  │ session_two │ col   │ 2025-04-24T11:29:44.404113 │ 2025-04-24T11:29:44.404145 │ True  │\n",
       "└────┴─────────────┴───────┴────────────────────────────┴────────────────────────────┴───────┘\n",
       "</pre>\n"
      ],
      "text/plain": [
       "\u001b[3m                                           Sessions                                           \u001b[0m\n",
       "┏━━━━┳━━━━━━━━━━━━━┳━━━━━━━┳━━━━━━━━━━━━━━━━━━━━━━━━━━━━┳━━━━━━━━━━━━━━━━━━━━━━━━━━━━┳━━━━━━━┓\n",
       "┃\u001b[1m \u001b[0m\u001b[1mID\u001b[0m\u001b[1m \u001b[0m┃\u001b[1m \u001b[0m\u001b[1mName       \u001b[0m\u001b[1m \u001b[0m┃\u001b[1m \u001b[0m\u001b[1mscope\u001b[0m\u001b[1m \u001b[0m┃\u001b[1m \u001b[0m\u001b[1mcreated_at                \u001b[0m\u001b[1m \u001b[0m┃\u001b[1m \u001b[0m\u001b[1mlast_used_at              \u001b[0m\u001b[1m \u001b[0m┃\u001b[1m \u001b[0m\u001b[1mready\u001b[0m\u001b[1m \u001b[0m┃\n",
       "┡━━━━╇━━━━━━━━━━━━━╇━━━━━━━╇━━━━━━━━━━━━━━━━━━━━━━━━━━━━╇━━━━━━━━━━━━━━━━━━━━━━━━━━━━╇━━━━━━━┩\n",
       "│ 2  │ session_two │ col   │ 2025-04-24T11:29:44.404113 │ 2025-04-24T11:29:44.404145 │ True  │\n",
       "└────┴─────────────┴───────┴────────────────────────────┴────────────────────────────┴───────┘\n"
      ]
     },
     "metadata": {},
     "output_type": "display_data"
    },
    {
     "data": {
      "text/plain": [
       "{'last_used_at': '2025-04-24T11:29:44.404145',\n",
       " 'study': None,\n",
       " 'tasks': '/server/task?session_id=2',\n",
       " 'dataframes': '/server/session/2/dataframe',\n",
       " 'scope': 'col',\n",
       " 'owner': {'id': 2,\n",
       "  'link': '/server/user/2',\n",
       "  'methods': ['DELETE', 'PATCH', 'GET']},\n",
       " 'collaboration': {'id': 1,\n",
       "  'link': '/server/collaboration/1',\n",
       "  'methods': ['DELETE', 'PATCH', 'GET']},\n",
       " 'id': 2,\n",
       " 'name': 'session_two',\n",
       " 'created_at': '2025-04-24T11:29:44.404113',\n",
       " 'ready': True}"
      ]
     },
     "execution_count": 4,
     "metadata": {},
     "output_type": "execute_result"
    }
   ],
   "source": [
    "client.session.get(2,display=True)"
   ]
  },
  {
   "cell_type": "code",
   "execution_count": null,
   "metadata": {},
   "outputs": [],
   "source": [
    "client.collaboration.get(1)"
   ]
  },
  {
   "cell_type": "code",
   "execution_count": null,
   "metadata": {},
   "outputs": [],
   "source": [
    "client.organization.list(collaboration=1)"
   ]
  },
  {
   "cell_type": "code",
   "execution_count": null,
   "metadata": {},
   "outputs": [],
   "source": [
    "client.session.list(display=True);"
   ]
  },
  {
   "cell_type": "code",
   "execution_count": null,
   "metadata": {},
   "outputs": [],
   "source": [
    "client.session.update(9, name=\"new name4\", scope=\"own\", display=True);"
   ]
  },
  {
   "cell_type": "code",
   "execution_count": null,
   "metadata": {},
   "outputs": [],
   "source": [
    "client.session.get(id_=1, display=True);"
   ]
  },
  {
   "cell_type": "code",
   "execution_count": null,
   "metadata": {},
   "outputs": [],
   "source": [
    "help(client.dataframe.create)"
   ]
  },
  {
   "cell_type": "code",
   "execution_count": null,
   "metadata": {},
   "outputs": [],
   "source": [
    "# session_id=1\n",
    "\n",
    "client.dataframe.create(label=\"default\",image=\"harbor2.vantage6.ai/algorithms/session-basics\",method=\"read_csv\", name=\"s2_dframe1\", session=2,display=True,input_={'kwargs': {}})\n",
    "\n"
   ]
  },
  {
   "cell_type": "code",
   "execution_count": 5,
   "metadata": {},
   "outputs": [
    {
     "data": {
      "text/html": [
       "<pre style=\"white-space:pre;overflow-x:auto;line-height:normal;font-family:Menlo,'DejaVu Sans Mono',consolas,'Courier New',monospace\">┏━━━━┳━━━━━━━━━━━━┳━━━━━━━━━━━━┳━━━━━━━━━━━━━━━━━━━━━━┳━━━━━━━━━━━━━┳━━━━━━━┓\n",
       "┃<span style=\"font-weight: bold\"> ID </span>┃<span style=\"font-weight: bold\"> Name       </span>┃<span style=\"font-weight: bold\"> Session ID </span>┃<span style=\"font-weight: bold\"> Last Session Task ID </span>┃<span style=\"font-weight: bold\"> No. Columns </span>┃<span style=\"font-weight: bold\"> Ready </span>┃\n",
       "┡━━━━╇━━━━━━━━━━━━╇━━━━━━━━━━━━╇━━━━━━━━━━━━━━━━━━━━━━╇━━━━━━━━━━━━━╇━━━━━━━┩\n",
       "│ 2  │ s2_dframe1 │ 2          │ 5                    │ 24          │ True  │\n",
       "└────┴────────────┴────────────┴──────────────────────┴─────────────┴───────┘\n",
       "</pre>\n"
      ],
      "text/plain": [
       "┏━━━━┳━━━━━━━━━━━━┳━━━━━━━━━━━━┳━━━━━━━━━━━━━━━━━━━━━━┳━━━━━━━━━━━━━┳━━━━━━━┓\n",
       "┃\u001b[1m \u001b[0m\u001b[1mID\u001b[0m\u001b[1m \u001b[0m┃\u001b[1m \u001b[0m\u001b[1mName      \u001b[0m\u001b[1m \u001b[0m┃\u001b[1m \u001b[0m\u001b[1mSession ID\u001b[0m\u001b[1m \u001b[0m┃\u001b[1m \u001b[0m\u001b[1mLast Session Task ID\u001b[0m\u001b[1m \u001b[0m┃\u001b[1m \u001b[0m\u001b[1mNo. Columns\u001b[0m\u001b[1m \u001b[0m┃\u001b[1m \u001b[0m\u001b[1mReady\u001b[0m\u001b[1m \u001b[0m┃\n",
       "┡━━━━╇━━━━━━━━━━━━╇━━━━━━━━━━━━╇━━━━━━━━━━━━━━━━━━━━━━╇━━━━━━━━━━━━━╇━━━━━━━┩\n",
       "│ 2  │ s2_dframe1 │ 2          │ 5                    │ 24          │ True  │\n",
       "└────┴────────────┴────────────┴──────────────────────┴─────────────┴───────┘\n"
      ]
     },
     "metadata": {},
     "output_type": "display_data"
    }
   ],
   "source": [
    "#list session's dataframes (session= 2)\n",
    "client.session.dataframes(2, display=True);"
   ]
  },
  {
   "cell_type": "code",
   "execution_count": null,
   "metadata": {},
   "outputs": [],
   "source": [
    "help(client.dataframe.get)"
   ]
  },
  {
   "cell_type": "code",
   "execution_count": null,
   "metadata": {},
   "outputs": [],
   "source": [
    "client.dataframe.get(2, display=True);"
   ]
  },
  {
   "cell_type": "code",
   "execution_count": null,
   "metadata": {},
   "outputs": [],
   "source": [
    "help(client.dataframe.preprocess)"
   ]
  },
  {
   "cell_type": "code",
   "execution_count": null,
   "metadata": {},
   "outputs": [],
   "source": [
    "#Why session ID and not dataframe id?\n",
    "client.dataframe.preprocess(2, image=\"ghcr.io/hcadavid/v6-sessions-k8s-diagnostics:latest\", method=\"pre_process2\",input_={    \n",
    "    \"args\": [\"Age\", \"PlusAge\"],\n",
    "    \"kwargs\": {}\n",
    "})"
   ]
  },
  {
   "cell_type": "code",
   "execution_count": 6,
   "metadata": {},
   "outputs": [
    {
     "data": {
      "text/html": [
       "<pre style=\"white-space:pre;overflow-x:auto;line-height:normal;font-family:Menlo,'DejaVu Sans Mono',consolas,'Courier New',monospace\">┏━━━━┳━━━━━━━━━━━━┳━━━━━━━━━━━━┳━━━━━━━━━━━━━━━━━━━━━━┳━━━━━━━━━━━━━┳━━━━━━━┓\n",
       "┃<span style=\"font-weight: bold\"> ID </span>┃<span style=\"font-weight: bold\"> Name       </span>┃<span style=\"font-weight: bold\"> Session ID </span>┃<span style=\"font-weight: bold\"> Last Session Task ID </span>┃<span style=\"font-weight: bold\"> No. Columns </span>┃<span style=\"font-weight: bold\"> Ready </span>┃\n",
       "┡━━━━╇━━━━━━━━━━━━╇━━━━━━━━━━━━╇━━━━━━━━━━━━━━━━━━━━━━╇━━━━━━━━━━━━━╇━━━━━━━┩\n",
       "│ 2  │ s2_dframe1 │ 2          │ 5                    │ 24          │ True  │\n",
       "└────┴────────────┴────────────┴──────────────────────┴─────────────┴───────┘\n",
       "</pre>\n"
      ],
      "text/plain": [
       "┏━━━━┳━━━━━━━━━━━━┳━━━━━━━━━━━━┳━━━━━━━━━━━━━━━━━━━━━━┳━━━━━━━━━━━━━┳━━━━━━━┓\n",
       "┃\u001b[1m \u001b[0m\u001b[1mID\u001b[0m\u001b[1m \u001b[0m┃\u001b[1m \u001b[0m\u001b[1mName      \u001b[0m\u001b[1m \u001b[0m┃\u001b[1m \u001b[0m\u001b[1mSession ID\u001b[0m\u001b[1m \u001b[0m┃\u001b[1m \u001b[0m\u001b[1mLast Session Task ID\u001b[0m\u001b[1m \u001b[0m┃\u001b[1m \u001b[0m\u001b[1mNo. Columns\u001b[0m\u001b[1m \u001b[0m┃\u001b[1m \u001b[0m\u001b[1mReady\u001b[0m\u001b[1m \u001b[0m┃\n",
       "┡━━━━╇━━━━━━━━━━━━╇━━━━━━━━━━━━╇━━━━━━━━━━━━━━━━━━━━━━╇━━━━━━━━━━━━━╇━━━━━━━┩\n",
       "│ 2  │ s2_dframe1 │ 2          │ 5                    │ 24          │ True  │\n",
       "└────┴────────────┴────────────┴──────────────────────┴─────────────┴───────┘\n"
      ]
     },
     "metadata": {},
     "output_type": "display_data"
    },
    {
     "data": {
      "text/html": [
       "<pre style=\"white-space:pre;overflow-x:auto;line-height:normal;font-family:Menlo,'DejaVu Sans Mono',consolas,'Courier New',monospace\"><span style=\"font-style: italic\">          Dataframe Schema           </span>\n",
       "┏━━━━━━━━━━━━━┳━━━━━━━━━━━┳━━━━━━━━━┓\n",
       "┃<span style=\"font-weight: bold\"> Column Name </span>┃<span style=\"font-weight: bold\"> Data Type </span>┃<span style=\"font-weight: bold\">   Nodes </span>┃\n",
       "┡━━━━━━━━━━━━━╇━━━━━━━━━━━╇━━━━━━━━━┩\n",
       "│ Age         │ int64     │ 6, 5, 7 │\n",
       "│ Country     │ string    │ 6, 5, 7 │\n",
       "│ Height      │ int64     │ 6, 5, 7 │\n",
       "│ Medal       │ string    │ 6, 5, 7 │\n",
       "│ PlusAge     │ int64     │ 6, 5, 7 │\n",
       "│ Sex         │ string    │ 6, 5, 7 │\n",
       "│ Sport       │ string    │ 6, 5, 7 │\n",
       "│ Weight      │ int64     │ 6, 5, 7 │\n",
       "└─────────────┴───────────┴─────────┘\n",
       "</pre>\n"
      ],
      "text/plain": [
       "\u001b[3m          Dataframe Schema           \u001b[0m\n",
       "┏━━━━━━━━━━━━━┳━━━━━━━━━━━┳━━━━━━━━━┓\n",
       "┃\u001b[1m \u001b[0m\u001b[1mColumn Name\u001b[0m\u001b[1m \u001b[0m┃\u001b[1m \u001b[0m\u001b[1mData Type\u001b[0m\u001b[1m \u001b[0m┃\u001b[1m \u001b[0m\u001b[1m  Nodes\u001b[0m\u001b[1m \u001b[0m┃\n",
       "┡━━━━━━━━━━━━━╇━━━━━━━━━━━╇━━━━━━━━━┩\n",
       "│ Age         │ int64     │ 6, 5, 7 │\n",
       "│ Country     │ string    │ 6, 5, 7 │\n",
       "│ Height      │ int64     │ 6, 5, 7 │\n",
       "│ Medal       │ string    │ 6, 5, 7 │\n",
       "│ PlusAge     │ int64     │ 6, 5, 7 │\n",
       "│ Sex         │ string    │ 6, 5, 7 │\n",
       "│ Sport       │ string    │ 6, 5, 7 │\n",
       "│ Weight      │ int64     │ 6, 5, 7 │\n",
       "└─────────────┴───────────┴─────────┘\n"
      ]
     },
     "metadata": {},
     "output_type": "display_data"
    }
   ],
   "source": [
    "#Check updated dataframe\n",
    "client.dataframe.get(2, display=True);"
   ]
  },
  {
   "cell_type": "code",
   "execution_count": null,
   "metadata": {},
   "outputs": [],
   "source": [
    "sessions = client.session.list(display=True)"
   ]
  },
  {
   "cell_type": "code",
   "execution_count": null,
   "metadata": {},
   "outputs": [],
   "source": [
    "client.session.tree()"
   ]
  },
  {
   "cell_type": "code",
   "execution_count": null,
   "metadata": {},
   "outputs": [],
   "source": [
    "[client.session.delete(id_, delete_dependents=True) for id_ in [1,2]]"
   ]
  },
  {
   "cell_type": "code",
   "execution_count": null,
   "metadata": {},
   "outputs": [],
   "source": [
    "client.session.task_tree(9)"
   ]
  },
  {
   "cell_type": "code",
   "execution_count": null,
   "metadata": {},
   "outputs": [],
   "source": [
    "a = client.dataframe.get(\"eloquent_knuth\", 1)"
   ]
  },
  {
   "cell_type": "code",
   "execution_count": 12,
   "metadata": {},
   "outputs": [
    {
     "name": "stdout",
     "output_type": "stream",
     "text": [
      "Help on method create in module vantage6.client:\n",
      "\n",
      "create(organizations: 'list | None', name: 'str', image: 'str', description: 'str', method: 'str', input_: 'dict | None' = None, session: 'int | None' = None, collaboration: 'int | None' = None, study: 'int | None' = None, store: 'int | None' = None, server_url: 'str | None' = None, databases: 'list[dict] | None' = None, action: 'AlgorithmStepType | None' = None) -> 'dict' method of vantage6.client.Task instance\n",
      "    Create a new task\n",
      "    \n",
      "    Parameters\n",
      "    ----------\n",
      "    organizations : list\n",
      "        Organization ids (within the collaboration) which need\n",
      "        to execute this task\n",
      "    name : str\n",
      "        Human readable name\n",
      "    image : str\n",
      "        Docker image name which contains the algorithm\n",
      "    description : str\n",
      "        Human readable description\n",
      "    method : str\n",
      "        Name of the method to be called\n",
      "    input_ : dict, optional\n",
      "        Algorithm input parameters\n",
      "    session : int, optional\n",
      "        ID of the session to which this task belongs. If not set, the\n",
      "        session id of the client needs to be set. Default is None.\n",
      "    collaboration : int, optional\n",
      "        ID of the collaboration to which this task belongs. Should be set if\n",
      "        the study is not set\n",
      "    study : int, optional\n",
      "        ID of the study to which this task belongs. Should be set if the\n",
      "        collaboration is not set\n",
      "    store : int, optional\n",
      "        ID of the algorithm store to retrieve the algorithm from\n",
      "    server_url: str, optional\n",
      "        URL of the server on which the task is created. This should be given if\n",
      "        the algorithm is retrieved from an algorithm store, and the server does\n",
      "        not contain its own URL in the configuration (you will be alerted of\n",
      "        this in an error message).\n",
      "    databases: list[dict], optional\n",
      "        Databases to be used at the node. Each dict should contain\n",
      "        at least a 'label' key. Additional keys are 'query' (if using\n",
      "        SQL/SPARQL databases), 'sheet_name' (if using Excel databases),\n",
      "        and 'preprocessing' information.\n",
      "    action: AlgorithmStepType, optional\n",
      "        Session action type to be performed by the task. If not provided, the\n",
      "        action from the algorithm store will be used, if available. If it is not\n",
      "        available from either, there will be an error. Suitable actions may be\n",
      "        one of 'data extraction', 'preprocessing', 'federated compute',\n",
      "        'central compute' or 'postprocessing'.\n",
      "    field: str, optional\n",
      "        Which data field to keep in the returned dict. For instance,\n",
      "        \"field='name'\" will only return the name of the task. Default is None.\n",
      "    fields: list[str], optional\n",
      "        Which data fields to keep in the returned dict. For instance,\n",
      "        \"fields=['name', 'id']\" will only return the names and ids of the\n",
      "        task. Default is None\n",
      "    \n",
      "    Returns\n",
      "    -------\n",
      "    dict\n",
      "        A dictionairy containing data on the created task, or a message\n",
      "        from the server if the task could not be created\n",
      "\n"
     ]
    }
   ],
   "source": [
    "help(client.task.create)"
   ]
  },
  {
   "cell_type": "code",
   "execution_count": 11,
   "metadata": {},
   "outputs": [
    {
     "name": "stdout",
     "output_type": "stream",
     "text": [
      "Done!                  23s)"
     ]
    },
    {
     "data": {
      "text/plain": [
       "{'data': [{'action': 'federated compute',\n",
       "   'id': 69,\n",
       "   'cleanup_at': None,\n",
       "   'run': {'id': 69, 'link': '/server/run/69', 'methods': ['GET', 'PATCH']},\n",
       "   'result': '{\"sum\": 66935, \"count\": 2424}',\n",
       "   'task': {'id': 23,\n",
       "    'link': '/server/task/23',\n",
       "    'methods': ['DELETE', 'GET']}},\n",
       "  {'action': 'federated compute',\n",
       "   'id': 68,\n",
       "   'cleanup_at': None,\n",
       "   'run': {'id': 68, 'link': '/server/run/68', 'methods': ['GET', 'PATCH']},\n",
       "   'result': '{\"sum\": 66935, \"count\": 2424}',\n",
       "   'task': {'id': 23,\n",
       "    'link': '/server/task/23',\n",
       "    'methods': ['DELETE', 'GET']}},\n",
       "  {'action': 'federated compute',\n",
       "   'id': 67,\n",
       "   'cleanup_at': None,\n",
       "   'run': {'id': 67, 'link': '/server/run/67', 'methods': ['GET', 'PATCH']},\n",
       "   'result': '{\"sum\": 66935, \"count\": 2424}',\n",
       "   'task': {'id': 23,\n",
       "    'link': '/server/task/23',\n",
       "    'methods': ['DELETE', 'GET']}}],\n",
       " 'links': {'first': '/server/result?task_id=23&page=1',\n",
       "  'self': '/server/result?task_id=23&page=1',\n",
       "  'last': '/server/result?task_id=23&page=1'}}"
      ]
     },
     "execution_count": 11,
     "metadata": {},
     "output_type": "execute_result"
    }
   ],
   "source": [
    "# Creating a task that uses pre-processed data\n",
    "task = client.task.create(name=\"fedavg\", description=\"aaabbccc\", collaboration=1,\n",
    "                   organizations=[2,3,4],\n",
    "                   databases=[{\"label\": \"s2_dframe1\", \"type\": \"dataframe\", \"dataframe_id\":\"2\"}], \n",
    "                   image=\"ghcr.io/hcadavid/v6-sessions-k8s-diagnostics:latest\", method=\"federated_avg\", \n",
    "                   action=\"federated compute\",\n",
    "                   input_={\n",
    "                    \"args\": [\"Age\"],\n",
    "                    \"kwargs\": {}\n",
    "                   }\n",
    ", session=2)\n",
    "\n",
    "client.wait_for_results(task['job_id'])"
   ]
  },
  {
   "cell_type": "markdown",
   "metadata": {},
   "source": [
    "### Central function"
   ]
  },
  {
   "cell_type": "code",
   "execution_count": null,
   "metadata": {},
   "outputs": [
    {
     "name": "stdout",
     "output_type": "stream",
     "text": [
      "Done!                  23s)"
     ]
    },
    {
     "data": {
      "text/plain": [
       "{'data': [{'action': 'federated compute',\n",
       "   'id': 69,\n",
       "   'cleanup_at': None,\n",
       "   'run': {'id': 69, 'link': '/server/run/69', 'methods': ['GET', 'PATCH']},\n",
       "   'result': '{\"sum\": 66935, \"count\": 2424}',\n",
       "   'task': {'id': 23,\n",
       "    'link': '/server/task/23',\n",
       "    'methods': ['DELETE', 'GET']}},\n",
       "  {'action': 'federated compute',\n",
       "   'id': 68,\n",
       "   'cleanup_at': None,\n",
       "   'run': {'id': 68, 'link': '/server/run/68', 'methods': ['GET', 'PATCH']},\n",
       "   'result': '{\"sum\": 66935, \"count\": 2424}',\n",
       "   'task': {'id': 23,\n",
       "    'link': '/server/task/23',\n",
       "    'methods': ['DELETE', 'GET']}},\n",
       "  {'action': 'federated compute',\n",
       "   'id': 67,\n",
       "   'cleanup_at': None,\n",
       "   'run': {'id': 67, 'link': '/server/run/67', 'methods': ['GET', 'PATCH']},\n",
       "   'result': '{\"sum\": 66935, \"count\": 2424}',\n",
       "   'task': {'id': 23,\n",
       "    'link': '/server/task/23',\n",
       "    'methods': ['DELETE', 'GET']}}],\n",
       " 'links': {'first': '/server/result?task_id=23&page=1',\n",
       "  'self': '/server/result?task_id=23&page=1',\n",
       "  'last': '/server/result?task_id=23&page=1'}}"
      ]
     },
     "metadata": {},
     "output_type": "display_data"
    }
   ],
   "source": [
    "# Creating a task that uses pre-processed data\n",
    "task = client.task.create(name=\"fedavg\", description=\"aaabbccc\", collaboration=1,\n",
    "                   organizations=[2,3,4],\n",
    "                   databases=[{\"label\": \"s2_dframe1\", \"type\": \"dataframe\", \"dataframe_id\":\"2\"}], \n",
    "                   image=\"ghcr.io/hcadavid/v6-sessions-k8s-diagnostics:latest\", method=\"central_average\", \n",
    "                   action=\"central compute\",\n",
    "                   input_={\n",
    "                    \"args\": [\"Age\"],\n",
    "                    \"kwargs\": {}\n",
    "                   }\n",
    ", session=2)\n",
    "\n",
    "client.wait_for_results(task['job_id'])"
   ]
  },
  {
   "cell_type": "code",
   "execution_count": null,
   "metadata": {},
   "outputs": [],
   "source": [
    "from rich.table import Table\n",
    "from rich.console import Console\n",
    "\n",
    "table = Table(title=\"DF\")"
   ]
  }
 ],
 "metadata": {
  "kernelspec": {
   "display_name": "vantage6-5.0.0a15",
   "language": "python",
   "name": "python3"
  },
  "language_info": {
   "codemirror_mode": {
    "name": "ipython",
    "version": 3
   },
   "file_extension": ".py",
   "mimetype": "text/x-python",
   "name": "python",
   "nbconvert_exporter": "python",
   "pygments_lexer": "ipython3",
   "version": "3.10.16"
  }
 },
 "nbformat": 4,
 "nbformat_minor": 2
}
